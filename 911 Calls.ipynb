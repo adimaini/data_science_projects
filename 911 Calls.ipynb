{
 "cells": [
  {
   "cell_type": "markdown",
   "metadata": {},
   "source": [
    "# 911 Calls Capstone Project"
   ]
  },
  {
   "cell_type": "markdown",
   "metadata": {},
   "source": [
    "For this capstone project we will be analyzing some 911 call data from [Kaggle](https://www.kaggle.com/mchirico/montcoalert). The data contains the following fields:\n",
    "\n",
    "* lat : String variable, Latitude\n",
    "* lng: String variable, Longitude\n",
    "* desc: String variable, Description of the Emergency Call\n",
    "* zip: String variable, Zipcode\n",
    "* title: String variable, Title\n",
    "* timeStamp: String variable, YYYY-MM-DD HH:MM:SS\n",
    "* twp: String variable, Township\n",
    "* addr: String variable, Address\n",
    "* e: String variable, Dummy variable (always 1)\n",
    "\n",
    "Just go along with this notebook and try to complete the instructions or answer the questions in bold using your Python and Data Science skills!"
   ]
  },
  {
   "cell_type": "markdown",
   "metadata": {},
   "source": [
    "## Data and Setup"
   ]
  },
  {
   "cell_type": "markdown",
   "metadata": {},
   "source": [
    "____\n",
    "** Import numpy and pandas **"
   ]
  },
  {
   "cell_type": "code",
   "execution_count": 1,
   "metadata": {},
   "outputs": [],
   "source": [
    "import numpy as np\n",
    "import pandas as pd"
   ]
  },
  {
   "cell_type": "markdown",
   "metadata": {},
   "source": [
    "** Import visualization libraries and set %matplotlib inline. **"
   ]
  },
  {
   "cell_type": "code",
   "execution_count": 101,
   "metadata": {},
   "outputs": [],
   "source": [
    "import seaborn as sns\n",
    "import datetime as dt\n",
    "import matplotlib.pyplot as plt\n",
    "%matplotlib inline"
   ]
  },
  {
   "cell_type": "markdown",
   "metadata": {},
   "source": [
    "** Read in the csv file as a dataframe called df **"
   ]
  },
  {
   "cell_type": "code",
   "execution_count": 15,
   "metadata": {},
   "outputs": [],
   "source": [
    "df = pd.read_csv('911.csv', dtype={'title': str, 'timeStamp': str, 'addr': str, 'e': str, 'desc': str, 'zip': str }, parse_dates=[5], infer_datetime_format=True, index_col='timeStamp')"
   ]
  },
  {
   "cell_type": "markdown",
   "metadata": {},
   "source": [
    "** Check the info() of the df **"
   ]
  },
  {
   "cell_type": "code",
   "execution_count": 16,
   "metadata": {},
   "outputs": [
    {
     "name": "stdout",
     "output_type": "stream",
     "text": [
      "<class 'pandas.core.frame.DataFrame'>\n",
      "DatetimeIndex: 99492 entries, 2015-12-10 17:40:00 to 2016-08-24 11:17:02\n",
      "Data columns (total 8 columns):\n",
      "lat      99492 non-null float64\n",
      "lng      99492 non-null float64\n",
      "desc     99492 non-null object\n",
      "zip      86637 non-null object\n",
      "title    99492 non-null object\n",
      "twp      99449 non-null object\n",
      "addr     98973 non-null object\n",
      "e        99492 non-null object\n",
      "dtypes: float64(2), object(6)\n",
      "memory usage: 6.8+ MB\n"
     ]
    }
   ],
   "source": [
    "df.info()"
   ]
  },
  {
   "cell_type": "markdown",
   "metadata": {},
   "source": [
    "** Check the head of df **"
   ]
  },
  {
   "cell_type": "code",
   "execution_count": 36,
   "metadata": {},
   "outputs": [
    {
     "data": {
      "text/html": [
       "<div>\n",
       "<style scoped>\n",
       "    .dataframe tbody tr th:only-of-type {\n",
       "        vertical-align: middle;\n",
       "    }\n",
       "\n",
       "    .dataframe tbody tr th {\n",
       "        vertical-align: top;\n",
       "    }\n",
       "\n",
       "    .dataframe thead th {\n",
       "        text-align: right;\n",
       "    }\n",
       "</style>\n",
       "<table border=\"1\" class=\"dataframe\">\n",
       "  <thead>\n",
       "    <tr style=\"text-align: right;\">\n",
       "      <th></th>\n",
       "      <th>lat</th>\n",
       "      <th>lng</th>\n",
       "      <th>desc</th>\n",
       "      <th>zip</th>\n",
       "      <th>title</th>\n",
       "      <th>twp</th>\n",
       "      <th>addr</th>\n",
       "      <th>e</th>\n",
       "    </tr>\n",
       "    <tr>\n",
       "      <th>timeStamp</th>\n",
       "      <th></th>\n",
       "      <th></th>\n",
       "      <th></th>\n",
       "      <th></th>\n",
       "      <th></th>\n",
       "      <th></th>\n",
       "      <th></th>\n",
       "      <th></th>\n",
       "    </tr>\n",
       "  </thead>\n",
       "  <tbody>\n",
       "    <tr>\n",
       "      <th>2016-08-24 11:06:00</th>\n",
       "      <td>40.132869</td>\n",
       "      <td>-75.333515</td>\n",
       "      <td>MARKLEY ST &amp; W LOGAN ST; NORRISTOWN; 2016-08-2...</td>\n",
       "      <td>19401</td>\n",
       "      <td>Traffic: VEHICLE ACCIDENT -</td>\n",
       "      <td>NORRISTOWN</td>\n",
       "      <td>MARKLEY ST &amp; W LOGAN ST</td>\n",
       "      <td>1</td>\n",
       "    </tr>\n",
       "    <tr>\n",
       "      <th>2016-08-24 11:07:02</th>\n",
       "      <td>40.006974</td>\n",
       "      <td>-75.289080</td>\n",
       "      <td>LANCASTER AVE &amp; RITTENHOUSE PL; LOWER MERION; ...</td>\n",
       "      <td>19003</td>\n",
       "      <td>Traffic: VEHICLE ACCIDENT -</td>\n",
       "      <td>LOWER MERION</td>\n",
       "      <td>LANCASTER AVE &amp; RITTENHOUSE PL</td>\n",
       "      <td>1</td>\n",
       "    </tr>\n",
       "    <tr>\n",
       "      <th>2016-08-24 11:12:00</th>\n",
       "      <td>40.115429</td>\n",
       "      <td>-75.334679</td>\n",
       "      <td>CHESTNUT ST &amp; WALNUT ST;  NORRISTOWN; Station ...</td>\n",
       "      <td>19401</td>\n",
       "      <td>EMS: FALL VICTIM</td>\n",
       "      <td>NORRISTOWN</td>\n",
       "      <td>CHESTNUT ST &amp; WALNUT ST</td>\n",
       "      <td>1</td>\n",
       "    </tr>\n",
       "    <tr>\n",
       "      <th>2016-08-24 11:17:01</th>\n",
       "      <td>40.186431</td>\n",
       "      <td>-75.192555</td>\n",
       "      <td>WELSH RD &amp; WEBSTER LN;  HORSHAM; Station 352; ...</td>\n",
       "      <td>19002</td>\n",
       "      <td>EMS: NAUSEA/VOMITING</td>\n",
       "      <td>HORSHAM</td>\n",
       "      <td>WELSH RD &amp; WEBSTER LN</td>\n",
       "      <td>1</td>\n",
       "    </tr>\n",
       "    <tr>\n",
       "      <th>2016-08-24 11:17:02</th>\n",
       "      <td>40.207055</td>\n",
       "      <td>-75.317952</td>\n",
       "      <td>MORRIS RD &amp; S BROAD ST; UPPER GWYNEDD; 2016-08...</td>\n",
       "      <td>19446</td>\n",
       "      <td>Traffic: VEHICLE ACCIDENT -</td>\n",
       "      <td>UPPER GWYNEDD</td>\n",
       "      <td>MORRIS RD &amp; S BROAD ST</td>\n",
       "      <td>1</td>\n",
       "    </tr>\n",
       "  </tbody>\n",
       "</table>\n",
       "</div>"
      ],
      "text/plain": [
       "                           lat        lng  \\\n",
       "timeStamp                                   \n",
       "2016-08-24 11:06:00  40.132869 -75.333515   \n",
       "2016-08-24 11:07:02  40.006974 -75.289080   \n",
       "2016-08-24 11:12:00  40.115429 -75.334679   \n",
       "2016-08-24 11:17:01  40.186431 -75.192555   \n",
       "2016-08-24 11:17:02  40.207055 -75.317952   \n",
       "\n",
       "                                                                  desc    zip  \\\n",
       "timeStamp                                                                       \n",
       "2016-08-24 11:06:00  MARKLEY ST & W LOGAN ST; NORRISTOWN; 2016-08-2...  19401   \n",
       "2016-08-24 11:07:02  LANCASTER AVE & RITTENHOUSE PL; LOWER MERION; ...  19003   \n",
       "2016-08-24 11:12:00  CHESTNUT ST & WALNUT ST;  NORRISTOWN; Station ...  19401   \n",
       "2016-08-24 11:17:01  WELSH RD & WEBSTER LN;  HORSHAM; Station 352; ...  19002   \n",
       "2016-08-24 11:17:02  MORRIS RD & S BROAD ST; UPPER GWYNEDD; 2016-08...  19446   \n",
       "\n",
       "                                           title            twp  \\\n",
       "timeStamp                                                         \n",
       "2016-08-24 11:06:00  Traffic: VEHICLE ACCIDENT -     NORRISTOWN   \n",
       "2016-08-24 11:07:02  Traffic: VEHICLE ACCIDENT -   LOWER MERION   \n",
       "2016-08-24 11:12:00             EMS: FALL VICTIM     NORRISTOWN   \n",
       "2016-08-24 11:17:01         EMS: NAUSEA/VOMITING        HORSHAM   \n",
       "2016-08-24 11:17:02  Traffic: VEHICLE ACCIDENT -  UPPER GWYNEDD   \n",
       "\n",
       "                                               addr  e  \n",
       "timeStamp                                               \n",
       "2016-08-24 11:06:00         MARKLEY ST & W LOGAN ST  1  \n",
       "2016-08-24 11:07:02  LANCASTER AVE & RITTENHOUSE PL  1  \n",
       "2016-08-24 11:12:00         CHESTNUT ST & WALNUT ST  1  \n",
       "2016-08-24 11:17:01           WELSH RD & WEBSTER LN  1  \n",
       "2016-08-24 11:17:02          MORRIS RD & S BROAD ST  1  "
      ]
     },
     "execution_count": 36,
     "metadata": {},
     "output_type": "execute_result"
    }
   ],
   "source": [
    "df.tail()"
   ]
  },
  {
   "cell_type": "markdown",
   "metadata": {},
   "source": [
    "## Basic Questions"
   ]
  },
  {
   "cell_type": "markdown",
   "metadata": {},
   "source": [
    "** What are the top 5 zipcodes for 911 calls? **"
   ]
  },
  {
   "cell_type": "code",
   "execution_count": 28,
   "metadata": {},
   "outputs": [
    {
     "data": {
      "text/plain": [
       "19401    6979\n",
       "19464    6643\n",
       "19403    4854\n",
       "19446    4748\n",
       "19406    3174\n",
       "Name: zip, dtype: int64"
      ]
     },
     "execution_count": 28,
     "metadata": {},
     "output_type": "execute_result"
    }
   ],
   "source": [
    "df['zip'].value_counts().head(5)"
   ]
  },
  {
   "cell_type": "markdown",
   "metadata": {},
   "source": [
    "** What are the top 5 townships (twp) for 911 calls? **"
   ]
  },
  {
   "cell_type": "code",
   "execution_count": 32,
   "metadata": {},
   "outputs": [
    {
     "data": {
      "text/plain": [
       "LOWER MERION    8443\n",
       "ABINGTON        5977\n",
       "NORRISTOWN      5890\n",
       "UPPER MERION    5227\n",
       "CHELTENHAM      4575\n",
       "Name: twp, dtype: int64"
      ]
     },
     "execution_count": 32,
     "metadata": {},
     "output_type": "execute_result"
    }
   ],
   "source": [
    "df['twp'].value_counts().head(5)"
   ]
  },
  {
   "cell_type": "markdown",
   "metadata": {},
   "source": [
    "** Take a look at the 'title' column, how many unique title codes are there? **"
   ]
  },
  {
   "cell_type": "code",
   "execution_count": 35,
   "metadata": {},
   "outputs": [
    {
     "data": {
      "text/plain": [
       "110"
      ]
     },
     "execution_count": 35,
     "metadata": {},
     "output_type": "execute_result"
    }
   ],
   "source": [
    "df['title'].nunique()"
   ]
  },
  {
   "cell_type": "markdown",
   "metadata": {},
   "source": [
    "## Creating new features"
   ]
  },
  {
   "cell_type": "markdown",
   "metadata": {},
   "source": [
    "** In the titles column there are \"Reasons/Departments\" specified before the title code. These are EMS, Fire, and Traffic. Use .apply() with a custom lambda expression to create a new column called \"Reason\" that contains this string value.** \n",
    "\n",
    "**For example, if the title column value is EMS: BACK PAINS/INJURY , the Reason column value would be EMS. **"
   ]
  },
  {
   "cell_type": "code",
   "execution_count": 53,
   "metadata": {},
   "outputs": [
    {
     "data": {
      "text/plain": [
       "timeStamp\n",
       "2015-12-10 17:40:00            EMS: BACK PAINS/INJURY\n",
       "2015-12-10 17:40:00           EMS: DIABETIC EMERGENCY\n",
       "2015-12-10 17:40:00               Fire: GAS-ODOR/LEAK\n",
       "2015-12-10 17:40:01            EMS: CARDIAC EMERGENCY\n",
       "2015-12-10 17:40:01                    EMS: DIZZINESS\n",
       "2015-12-10 17:40:01                  EMS: HEAD INJURY\n",
       "2015-12-10 17:40:01              EMS: NAUSEA/VOMITING\n",
       "2015-12-10 17:40:01        EMS: RESPIRATORY EMERGENCY\n",
       "2015-12-10 17:40:01             EMS: SYNCOPAL EPISODE\n",
       "2015-12-10 17:40:01       Traffic: VEHICLE ACCIDENT -\n",
       "2015-12-10 17:40:01       Traffic: VEHICLE ACCIDENT -\n",
       "2015-12-10 17:40:02       Traffic: VEHICLE ACCIDENT -\n",
       "2015-12-10 17:40:02       Traffic: VEHICLE ACCIDENT -\n",
       "2015-12-10 17:40:02       Traffic: VEHICLE ACCIDENT -\n",
       "2015-12-10 17:40:02       Traffic: VEHICLE ACCIDENT -\n",
       "2015-12-10 17:40:02       Traffic: VEHICLE ACCIDENT -\n",
       "2015-12-10 17:46:01        EMS: RESPIRATORY EMERGENCY\n",
       "2015-12-10 17:47:01                    EMS: DIZZINESS\n",
       "2015-12-10 17:47:01             EMS: VEHICLE ACCIDENT\n",
       "2015-12-10 17:47:02       Traffic: DISABLED VEHICLE -\n",
       "2015-12-10 17:47:02       Traffic: VEHICLE ACCIDENT -\n",
       "2015-12-10 17:57:02       Traffic: DISABLED VEHICLE -\n",
       "2015-12-10 18:02:01              Fire: APPLIANCE FIRE\n",
       "2015-12-10 18:02:02       Traffic: DISABLED VEHICLE -\n",
       "2015-12-10 18:02:02       Traffic: VEHICLE ACCIDENT -\n",
       "2015-12-10 18:06:25             EMS: GENERAL WEAKNESS\n",
       "2015-12-10 18:06:25                  EMS: HEAD INJURY\n",
       "2015-12-10 18:06:25    Fire: CARBON MONOXIDE DETECTOR\n",
       "2015-12-10 18:06:26       Traffic: VEHICLE ACCIDENT -\n",
       "2015-12-10 18:11:01       Traffic: DISABLED VEHICLE -\n",
       "                                    ...              \n",
       "2016-08-24 09:41:00    EMS: UNKNOWN MEDICAL EMERGENCY\n",
       "2016-08-24 09:42:00    EMS: UNKNOWN MEDICAL EMERGENCY\n",
       "2016-08-24 09:51:06                  EMS: FALL VICTIM\n",
       "2016-08-24 09:56:13        EMS: RESPIRATORY EMERGENCY\n",
       "2016-08-24 10:01:00              EMS: NAUSEA/VOMITING\n",
       "2016-08-24 10:12:01        EMS: ALTERED MENTAL STATUS\n",
       "2016-08-24 10:12:01                  Fire: FIRE ALARM\n",
       "2016-08-24 10:12:01                  Fire: FIRE ALARM\n",
       "2016-08-24 10:17:01        EMS: ALTERED MENTAL STATUS\n",
       "2016-08-24 10:17:01        EMS: RESPIRATORY EMERGENCY\n",
       "2016-08-24 10:22:00            EMS: CARDIAC EMERGENCY\n",
       "2016-08-24 10:27:01             EMS: GENERAL WEAKNESS\n",
       "2016-08-24 10:27:01                     EMS: SEIZURES\n",
       "2016-08-24 10:32:01       Traffic: VEHICLE ACCIDENT -\n",
       "2016-08-24 10:47:00        EMS: RESPIRATORY EMERGENCY\n",
       "2016-08-24 10:47:00              EMS: SUBJECT IN PAIN\n",
       "2016-08-24 10:47:02       Traffic: VEHICLE ACCIDENT -\n",
       "2016-08-24 10:52:01            EMS: CARDIAC EMERGENCY\n",
       "2016-08-24 10:52:01           EMS: DIABETIC EMERGENCY\n",
       "2016-08-24 10:52:01                    EMS: DIZZINESS\n",
       "2016-08-24 10:52:03       Traffic: DISABLED VEHICLE -\n",
       "2016-08-24 10:57:00            EMS: BACK PAINS/INJURY\n",
       "2016-08-24 10:57:00                  Fire: FIRE ALARM\n",
       "2016-08-24 10:57:01       Traffic: DISABLED VEHICLE -\n",
       "2016-08-24 11:02:02       Traffic: VEHICLE ACCIDENT -\n",
       "2016-08-24 11:06:00       Traffic: VEHICLE ACCIDENT -\n",
       "2016-08-24 11:07:02       Traffic: VEHICLE ACCIDENT -\n",
       "2016-08-24 11:12:00                  EMS: FALL VICTIM\n",
       "2016-08-24 11:17:01              EMS: NAUSEA/VOMITING\n",
       "2016-08-24 11:17:02       Traffic: VEHICLE ACCIDENT -\n",
       "Name: title, Length: 99492, dtype: object"
      ]
     },
     "execution_count": 53,
     "metadata": {},
     "output_type": "execute_result"
    }
   ],
   "source": [
    "df['title']"
   ]
  },
  {
   "cell_type": "code",
   "execution_count": 59,
   "metadata": {},
   "outputs": [
    {
     "data": {
      "text/plain": [
       "timeStamp\n",
       "2015-12-10 17:40:00     EMS\n",
       "2015-12-10 17:40:00     EMS\n",
       "2015-12-10 17:40:00    Fire\n",
       "2015-12-10 17:40:01     EMS\n",
       "2015-12-10 17:40:01     EMS\n",
       "Name: Reason, dtype: object"
      ]
     },
     "execution_count": 59,
     "metadata": {},
     "output_type": "execute_result"
    }
   ],
   "source": [
    "df['Reason'] = df['title'].apply(lambda x: x.split(':')[0])\n",
    "df['Reason'].head()"
   ]
  },
  {
   "cell_type": "markdown",
   "metadata": {},
   "source": [
    "** What is the most common Reason for a 911 call based off of this new column? **"
   ]
  },
  {
   "cell_type": "code",
   "execution_count": 58,
   "metadata": {},
   "outputs": [
    {
     "data": {
      "text/plain": [
       "EMS        48877\n",
       "Traffic    35695\n",
       "Fire       14920\n",
       "Name: Reason, dtype: int64"
      ]
     },
     "execution_count": 58,
     "metadata": {},
     "output_type": "execute_result"
    }
   ],
   "source": [
    "df['Reason'].value_counts()"
   ]
  },
  {
   "cell_type": "markdown",
   "metadata": {},
   "source": [
    "** Now use seaborn to create a countplot of 911 calls by Reason. **"
   ]
  },
  {
   "cell_type": "code",
   "execution_count": 61,
   "metadata": {},
   "outputs": [
    {
     "data": {
      "text/plain": [
       "<matplotlib.axes._subplots.AxesSubplot at 0x299876b8d30>"
      ]
     },
     "execution_count": 61,
     "metadata": {},
     "output_type": "execute_result"
    },
    {
     "data": {
      "image/png": "[encoded data removed]",
      "text/plain": [
       "<Figure size 432x288 with 1 Axes>"
      ]
     },
     "metadata": {
      "needs_background": "light"
     },
     "output_type": "display_data"
    }
   ],
   "source": [
    "sns.countplot(data=df, x='Reason')"
   ]
  },
  {
   "cell_type": "markdown",
   "metadata": {},
   "source": [
    "___\n",
    "** Now let us begin to focus on time information. What is the data type of the objects in the timeStamp column? **"
   ]
  },
  {
   "cell_type": "code",
   "execution_count": 66,
   "metadata": {},
   "outputs": [
    {
     "data": {
      "text/html": [
       "<div>\n",
       "<style scoped>\n",
       "    .dataframe tbody tr th:only-of-type {\n",
       "        vertical-align: middle;\n",
       "    }\n",
       "\n",
       "    .dataframe tbody tr th {\n",
       "        vertical-align: top;\n",
       "    }\n",
       "\n",
       "    .dataframe thead th {\n",
       "        text-align: right;\n",
       "    }\n",
       "</style>\n",
       "<table border=\"1\" class=\"dataframe\">\n",
       "  <thead>\n",
       "    <tr style=\"text-align: right;\">\n",
       "      <th></th>\n",
       "      <th>lat</th>\n",
       "      <th>lng</th>\n",
       "      <th>desc</th>\n",
       "      <th>zip</th>\n",
       "      <th>title</th>\n",
       "      <th>twp</th>\n",
       "      <th>addr</th>\n",
       "      <th>e</th>\n",
       "      <th>Reason</th>\n",
       "    </tr>\n",
       "    <tr>\n",
       "      <th>timeStamp</th>\n",
       "      <th></th>\n",
       "      <th></th>\n",
       "      <th></th>\n",
       "      <th></th>\n",
       "      <th></th>\n",
       "      <th></th>\n",
       "      <th></th>\n",
       "      <th></th>\n",
       "      <th></th>\n",
       "    </tr>\n",
       "  </thead>\n",
       "  <tbody>\n",
       "    <tr>\n",
       "      <th>2015-12-10 17:40:00</th>\n",
       "      <td>40.297876</td>\n",
       "      <td>-75.581294</td>\n",
       "      <td>REINDEER CT &amp; DEAD END;  NEW HANOVER; Station ...</td>\n",
       "      <td>19525</td>\n",
       "      <td>EMS: BACK PAINS/INJURY</td>\n",
       "      <td>NEW HANOVER</td>\n",
       "      <td>REINDEER CT &amp; DEAD END</td>\n",
       "      <td>1</td>\n",
       "      <td>EMS</td>\n",
       "    </tr>\n",
       "    <tr>\n",
       "      <th>2015-12-10 17:40:00</th>\n",
       "      <td>40.258061</td>\n",
       "      <td>-75.264680</td>\n",
       "      <td>BRIAR PATH &amp; WHITEMARSH LN;  HATFIELD TOWNSHIP...</td>\n",
       "      <td>19446</td>\n",
       "      <td>EMS: DIABETIC EMERGENCY</td>\n",
       "      <td>HATFIELD TOWNSHIP</td>\n",
       "      <td>BRIAR PATH &amp; WHITEMARSH LN</td>\n",
       "      <td>1</td>\n",
       "      <td>EMS</td>\n",
       "    </tr>\n",
       "    <tr>\n",
       "      <th>2015-12-10 17:40:00</th>\n",
       "      <td>40.121182</td>\n",
       "      <td>-75.351975</td>\n",
       "      <td>HAWS AVE; NORRISTOWN; 2015-12-10 @ 14:39:21-St...</td>\n",
       "      <td>19401</td>\n",
       "      <td>Fire: GAS-ODOR/LEAK</td>\n",
       "      <td>NORRISTOWN</td>\n",
       "      <td>HAWS AVE</td>\n",
       "      <td>1</td>\n",
       "      <td>Fire</td>\n",
       "    </tr>\n",
       "    <tr>\n",
       "      <th>2015-12-10 17:40:01</th>\n",
       "      <td>40.116153</td>\n",
       "      <td>-75.343513</td>\n",
       "      <td>AIRY ST &amp; SWEDE ST;  NORRISTOWN; Station 308A;...</td>\n",
       "      <td>19401</td>\n",
       "      <td>EMS: CARDIAC EMERGENCY</td>\n",
       "      <td>NORRISTOWN</td>\n",
       "      <td>AIRY ST &amp; SWEDE ST</td>\n",
       "      <td>1</td>\n",
       "      <td>EMS</td>\n",
       "    </tr>\n",
       "    <tr>\n",
       "      <th>2015-12-10 17:40:01</th>\n",
       "      <td>40.251492</td>\n",
       "      <td>-75.603350</td>\n",
       "      <td>CHERRYWOOD CT &amp; DEAD END;  LOWER POTTSGROVE; S...</td>\n",
       "      <td>NaN</td>\n",
       "      <td>EMS: DIZZINESS</td>\n",
       "      <td>LOWER POTTSGROVE</td>\n",
       "      <td>CHERRYWOOD CT &amp; DEAD END</td>\n",
       "      <td>1</td>\n",
       "      <td>EMS</td>\n",
       "    </tr>\n",
       "    <tr>\n",
       "      <th>2015-12-10 17:40:01</th>\n",
       "      <td>40.253473</td>\n",
       "      <td>-75.283245</td>\n",
       "      <td>CANNON AVE &amp; W 9TH ST;  LANSDALE; Station 345;...</td>\n",
       "      <td>19446</td>\n",
       "      <td>EMS: HEAD INJURY</td>\n",
       "      <td>LANSDALE</td>\n",
       "      <td>CANNON AVE &amp; W 9TH ST</td>\n",
       "      <td>1</td>\n",
       "      <td>EMS</td>\n",
       "    </tr>\n",
       "    <tr>\n",
       "      <th>2015-12-10 17:40:01</th>\n",
       "      <td>40.182111</td>\n",
       "      <td>-75.127795</td>\n",
       "      <td>LAUREL AVE &amp; OAKDALE AVE;  HORSHAM; Station 35...</td>\n",
       "      <td>19044</td>\n",
       "      <td>EMS: NAUSEA/VOMITING</td>\n",
       "      <td>HORSHAM</td>\n",
       "      <td>LAUREL AVE &amp; OAKDALE AVE</td>\n",
       "      <td>1</td>\n",
       "      <td>EMS</td>\n",
       "    </tr>\n",
       "    <tr>\n",
       "      <th>2015-12-10 17:40:01</th>\n",
       "      <td>40.217286</td>\n",
       "      <td>-75.405182</td>\n",
       "      <td>COLLEGEVILLE RD &amp; LYWISKI RD;  SKIPPACK; Stati...</td>\n",
       "      <td>19426</td>\n",
       "      <td>EMS: RESPIRATORY EMERGENCY</td>\n",
       "      <td>SKIPPACK</td>\n",
       "      <td>COLLEGEVILLE RD &amp; LYWISKI RD</td>\n",
       "      <td>1</td>\n",
       "      <td>EMS</td>\n",
       "    </tr>\n",
       "    <tr>\n",
       "      <th>2015-12-10 17:40:01</th>\n",
       "      <td>40.289027</td>\n",
       "      <td>-75.399590</td>\n",
       "      <td>MAIN ST &amp; OLD SUMNEYTOWN PIKE;  LOWER SALFORD;...</td>\n",
       "      <td>19438</td>\n",
       "      <td>EMS: SYNCOPAL EPISODE</td>\n",
       "      <td>LOWER SALFORD</td>\n",
       "      <td>MAIN ST &amp; OLD SUMNEYTOWN PIKE</td>\n",
       "      <td>1</td>\n",
       "      <td>EMS</td>\n",
       "    </tr>\n",
       "    <tr>\n",
       "      <th>2015-12-10 17:40:01</th>\n",
       "      <td>40.102398</td>\n",
       "      <td>-75.291458</td>\n",
       "      <td>BLUEROUTE  &amp; RAMP I476 NB TO CHEMICAL RD; PLYM...</td>\n",
       "      <td>19462</td>\n",
       "      <td>Traffic: VEHICLE ACCIDENT -</td>\n",
       "      <td>PLYMOUTH</td>\n",
       "      <td>BLUEROUTE  &amp; RAMP I476 NB TO CHEMICAL RD</td>\n",
       "      <td>1</td>\n",
       "      <td>Traffic</td>\n",
       "    </tr>\n",
       "    <tr>\n",
       "      <th>2015-12-10 17:40:01</th>\n",
       "      <td>40.231990</td>\n",
       "      <td>-75.251891</td>\n",
       "      <td>RT202 PKWY &amp; KNAPP RD; MONTGOMERY; 2015-12-10 ...</td>\n",
       "      <td>NaN</td>\n",
       "      <td>Traffic: VEHICLE ACCIDENT -</td>\n",
       "      <td>MONTGOMERY</td>\n",
       "      <td>RT202 PKWY &amp; KNAPP RD</td>\n",
       "      <td>1</td>\n",
       "      <td>Traffic</td>\n",
       "    </tr>\n",
       "    <tr>\n",
       "      <th>2015-12-10 17:40:02</th>\n",
       "      <td>40.084161</td>\n",
       "      <td>-75.308386</td>\n",
       "      <td>BROOK RD &amp; COLWELL LN; PLYMOUTH; 2015-12-10 @ ...</td>\n",
       "      <td>19428</td>\n",
       "      <td>Traffic: VEHICLE ACCIDENT -</td>\n",
       "      <td>PLYMOUTH</td>\n",
       "      <td>BROOK RD &amp; COLWELL LN</td>\n",
       "      <td>1</td>\n",
       "      <td>Traffic</td>\n",
       "    </tr>\n",
       "    <tr>\n",
       "      <th>2015-12-10 17:40:02</th>\n",
       "      <td>40.174131</td>\n",
       "      <td>-75.098491</td>\n",
       "      <td>BYBERRY AVE &amp; S WARMINSTER RD; UPPER MORELAND;...</td>\n",
       "      <td>19040</td>\n",
       "      <td>Traffic: VEHICLE ACCIDENT -</td>\n",
       "      <td>UPPER MORELAND</td>\n",
       "      <td>BYBERRY AVE &amp; S WARMINSTER RD</td>\n",
       "      <td>1</td>\n",
       "      <td>Traffic</td>\n",
       "    </tr>\n",
       "    <tr>\n",
       "      <th>2015-12-10 17:40:02</th>\n",
       "      <td>40.062974</td>\n",
       "      <td>-75.135914</td>\n",
       "      <td>OLD YORK RD &amp; VALLEY RD; CHELTENHAM; 2015-12-1...</td>\n",
       "      <td>19027</td>\n",
       "      <td>Traffic: VEHICLE ACCIDENT -</td>\n",
       "      <td>CHELTENHAM</td>\n",
       "      <td>OLD YORK RD &amp; VALLEY RD</td>\n",
       "      <td>1</td>\n",
       "      <td>Traffic</td>\n",
       "    </tr>\n",
       "    <tr>\n",
       "      <th>2015-12-10 17:40:02</th>\n",
       "      <td>40.097222</td>\n",
       "      <td>-75.376195</td>\n",
       "      <td>SCHUYLKILL EXPY &amp; CROTON RD UNDERPASS; UPPER M...</td>\n",
       "      <td>NaN</td>\n",
       "      <td>Traffic: VEHICLE ACCIDENT -</td>\n",
       "      <td>UPPER MERION</td>\n",
       "      <td>SCHUYLKILL EXPY &amp; CROTON RD UNDERPASS</td>\n",
       "      <td>1</td>\n",
       "      <td>Traffic</td>\n",
       "    </tr>\n",
       "    <tr>\n",
       "      <th>2015-12-10 17:40:02</th>\n",
       "      <td>40.223778</td>\n",
       "      <td>-75.235399</td>\n",
       "      <td>STUMP RD &amp; WITCHWOOD DR; MONTGOMERY; 2015-12-1...</td>\n",
       "      <td>18936</td>\n",
       "      <td>Traffic: VEHICLE ACCIDENT -</td>\n",
       "      <td>MONTGOMERY</td>\n",
       "      <td>STUMP RD &amp; WITCHWOOD DR</td>\n",
       "      <td>1</td>\n",
       "      <td>Traffic</td>\n",
       "    </tr>\n",
       "    <tr>\n",
       "      <th>2015-12-10 17:46:01</th>\n",
       "      <td>40.243258</td>\n",
       "      <td>-75.286552</td>\n",
       "      <td>SUSQUEHANNA AVE &amp; W MAIN ST;  LANSDALE; Statio...</td>\n",
       "      <td>19446</td>\n",
       "      <td>EMS: RESPIRATORY EMERGENCY</td>\n",
       "      <td>LANSDALE</td>\n",
       "      <td>SUSQUEHANNA AVE &amp; W MAIN ST</td>\n",
       "      <td>1</td>\n",
       "      <td>EMS</td>\n",
       "    </tr>\n",
       "    <tr>\n",
       "      <th>2015-12-10 17:47:01</th>\n",
       "      <td>40.312181</td>\n",
       "      <td>-75.574260</td>\n",
       "      <td>CHARLOTTE ST &amp; MILES RD;  NEW HANOVER; Station...</td>\n",
       "      <td>19525</td>\n",
       "      <td>EMS: DIZZINESS</td>\n",
       "      <td>NEW HANOVER</td>\n",
       "      <td>CHARLOTTE ST &amp; MILES RD</td>\n",
       "      <td>1</td>\n",
       "      <td>EMS</td>\n",
       "    </tr>\n",
       "    <tr>\n",
       "      <th>2015-12-10 17:47:01</th>\n",
       "      <td>40.114239</td>\n",
       "      <td>-75.338508</td>\n",
       "      <td>PENN ST &amp; ARCH ST;  NORRISTOWN; Station 308A; ...</td>\n",
       "      <td>19401</td>\n",
       "      <td>EMS: VEHICLE ACCIDENT</td>\n",
       "      <td>NORRISTOWN</td>\n",
       "      <td>PENN ST &amp; ARCH ST</td>\n",
       "      <td>1</td>\n",
       "      <td>EMS</td>\n",
       "    </tr>\n",
       "    <tr>\n",
       "      <th>2015-12-10 17:47:02</th>\n",
       "      <td>40.209337</td>\n",
       "      <td>-75.135266</td>\n",
       "      <td>COUNTY LINE RD &amp; WILLOW DR; HORSHAM; 2015-12-1...</td>\n",
       "      <td>18974</td>\n",
       "      <td>Traffic: DISABLED VEHICLE -</td>\n",
       "      <td>HORSHAM</td>\n",
       "      <td>COUNTY LINE RD &amp; WILLOW DR</td>\n",
       "      <td>1</td>\n",
       "      <td>Traffic</td>\n",
       "    </tr>\n",
       "    <tr>\n",
       "      <th>2015-12-10 17:47:02</th>\n",
       "      <td>40.114239</td>\n",
       "      <td>-75.338508</td>\n",
       "      <td>PENN ST &amp; ARCH ST; NORRISTOWN; 2015-12-10 @ 17...</td>\n",
       "      <td>19401</td>\n",
       "      <td>Traffic: VEHICLE ACCIDENT -</td>\n",
       "      <td>NORRISTOWN</td>\n",
       "      <td>PENN ST &amp; ARCH ST</td>\n",
       "      <td>1</td>\n",
       "      <td>Traffic</td>\n",
       "    </tr>\n",
       "    <tr>\n",
       "      <th>2015-12-10 17:57:02</th>\n",
       "      <td>40.117948</td>\n",
       "      <td>-75.209848</td>\n",
       "      <td>CHURCH RD &amp; REDCOAT DR; WHITEMARSH; 2015-12-10...</td>\n",
       "      <td>19031</td>\n",
       "      <td>Traffic: DISABLED VEHICLE -</td>\n",
       "      <td>WHITEMARSH</td>\n",
       "      <td>CHURCH RD &amp; REDCOAT DR</td>\n",
       "      <td>1</td>\n",
       "      <td>Traffic</td>\n",
       "    </tr>\n",
       "    <tr>\n",
       "      <th>2015-12-10 18:02:01</th>\n",
       "      <td>40.199006</td>\n",
       "      <td>-75.300058</td>\n",
       "      <td>LILAC CT &amp; PRIMROSE DR; UPPER GWYNEDD; 2015-12...</td>\n",
       "      <td>19446</td>\n",
       "      <td>Fire: APPLIANCE FIRE</td>\n",
       "      <td>UPPER GWYNEDD</td>\n",
       "      <td>LILAC CT &amp; PRIMROSE DR</td>\n",
       "      <td>1</td>\n",
       "      <td>Fire</td>\n",
       "    </tr>\n",
       "    <tr>\n",
       "      <th>2015-12-10 18:02:02</th>\n",
       "      <td>40.143326</td>\n",
       "      <td>-75.422819</td>\n",
       "      <td>RT422  &amp; PAWLINGS RD OVERPASS; LOWER PROVIDENC...</td>\n",
       "      <td>NaN</td>\n",
       "      <td>Traffic: DISABLED VEHICLE -</td>\n",
       "      <td>LOWER PROVIDENCE</td>\n",
       "      <td>RT422  &amp; PAWLINGS RD OVERPASS</td>\n",
       "      <td>1</td>\n",
       "      <td>Traffic</td>\n",
       "    </tr>\n",
       "    <tr>\n",
       "      <th>2015-12-10 18:02:02</th>\n",
       "      <td>40.153268</td>\n",
       "      <td>-75.189558</td>\n",
       "      <td>SUMMIT AVE &amp; RT309 UNDERPASS; UPPER DUBLIN; 20...</td>\n",
       "      <td>NaN</td>\n",
       "      <td>Traffic: VEHICLE ACCIDENT -</td>\n",
       "      <td>UPPER DUBLIN</td>\n",
       "      <td>SUMMIT AVE &amp; RT309 UNDERPASS</td>\n",
       "      <td>1</td>\n",
       "      <td>Traffic</td>\n",
       "    </tr>\n",
       "    <tr>\n",
       "      <th>2015-12-10 18:06:25</th>\n",
       "      <td>40.133037</td>\n",
       "      <td>-75.408463</td>\n",
       "      <td>SHANNONDELL DR &amp; SHANNONDELL BLVD;  LOWER PROV...</td>\n",
       "      <td>19403</td>\n",
       "      <td>EMS: GENERAL WEAKNESS</td>\n",
       "      <td>LOWER PROVIDENCE</td>\n",
       "      <td>SHANNONDELL DR &amp; SHANNONDELL BLVD</td>\n",
       "      <td>1</td>\n",
       "      <td>EMS</td>\n",
       "    </tr>\n",
       "    <tr>\n",
       "      <th>2015-12-10 18:06:25</th>\n",
       "      <td>40.155283</td>\n",
       "      <td>-75.264230</td>\n",
       "      <td>PENLLYN BLUE BELL PIKE &amp; VILLAGE CIR;  WHITPAI...</td>\n",
       "      <td>19422</td>\n",
       "      <td>EMS: HEAD INJURY</td>\n",
       "      <td>WHITPAIN</td>\n",
       "      <td>PENLLYN BLUE BELL PIKE &amp; VILLAGE CIR</td>\n",
       "      <td>1</td>\n",
       "      <td>EMS</td>\n",
       "    </tr>\n",
       "    <tr>\n",
       "      <th>2015-12-10 18:06:25</th>\n",
       "      <td>40.028903</td>\n",
       "      <td>-75.351822</td>\n",
       "      <td>EDENTON PL &amp; DURHAM DR; DELAWARE COUNTY; 2015-...</td>\n",
       "      <td>19085</td>\n",
       "      <td>Fire: CARBON MONOXIDE DETECTOR</td>\n",
       "      <td>DELAWARE COUNTY</td>\n",
       "      <td>EDENTON PL &amp; DURHAM DR</td>\n",
       "      <td>1</td>\n",
       "      <td>Fire</td>\n",
       "    </tr>\n",
       "    <tr>\n",
       "      <th>2015-12-10 18:06:26</th>\n",
       "      <td>40.097222</td>\n",
       "      <td>-75.376195</td>\n",
       "      <td>SCHUYLKILL EXPY &amp; WEADLEY RD OVERPASS; UPPER M...</td>\n",
       "      <td>NaN</td>\n",
       "      <td>Traffic: VEHICLE ACCIDENT -</td>\n",
       "      <td>UPPER MERION</td>\n",
       "      <td>SCHUYLKILL EXPY &amp; WEADLEY RD OVERPASS</td>\n",
       "      <td>1</td>\n",
       "      <td>Traffic</td>\n",
       "    </tr>\n",
       "    <tr>\n",
       "      <th>2015-12-10 18:11:01</th>\n",
       "      <td>40.209337</td>\n",
       "      <td>-75.135266</td>\n",
       "      <td>COUNTY LINE RD &amp; WILLOW DR; HORSHAM; 2015-12-1...</td>\n",
       "      <td>18974</td>\n",
       "      <td>Traffic: DISABLED VEHICLE -</td>\n",
       "      <td>HORSHAM</td>\n",
       "      <td>COUNTY LINE RD &amp; WILLOW DR</td>\n",
       "      <td>1</td>\n",
       "      <td>Traffic</td>\n",
       "    </tr>\n",
       "    <tr>\n",
       "      <th>...</th>\n",
       "      <td>...</td>\n",
       "      <td>...</td>\n",
       "      <td>...</td>\n",
       "      <td>...</td>\n",
       "      <td>...</td>\n",
       "      <td>...</td>\n",
       "      <td>...</td>\n",
       "      <td>...</td>\n",
       "      <td>...</td>\n",
       "    </tr>\n",
       "    <tr>\n",
       "      <th>2016-08-24 09:41:00</th>\n",
       "      <td>40.274137</td>\n",
       "      <td>-75.660469</td>\n",
       "      <td>UPLAND SQUARE DR &amp; SELL RD;  WEST POTTSGROVE; ...</td>\n",
       "      <td>19464</td>\n",
       "      <td>EMS: UNKNOWN MEDICAL EMERGENCY</td>\n",
       "      <td>WEST POTTSGROVE</td>\n",
       "      <td>UPLAND SQUARE DR &amp; SELL RD</td>\n",
       "      <td>1</td>\n",
       "      <td>EMS</td>\n",
       "    </tr>\n",
       "    <tr>\n",
       "      <th>2016-08-24 09:42:00</th>\n",
       "      <td>40.254768</td>\n",
       "      <td>-75.660459</td>\n",
       "      <td>SHOEMAKER RD &amp; ROBINSON ST;  POTTSTOWN; Statio...</td>\n",
       "      <td>19464</td>\n",
       "      <td>EMS: UNKNOWN MEDICAL EMERGENCY</td>\n",
       "      <td>POTTSTOWN</td>\n",
       "      <td>SHOEMAKER RD &amp; ROBINSON ST</td>\n",
       "      <td>1</td>\n",
       "      <td>EMS</td>\n",
       "    </tr>\n",
       "    <tr>\n",
       "      <th>2016-08-24 09:51:06</th>\n",
       "      <td>40.163730</td>\n",
       "      <td>-75.082753</td>\n",
       "      <td>KAREN LN &amp; BYBERRY RD;  UPPER MORELAND; Statio...</td>\n",
       "      <td>19040</td>\n",
       "      <td>EMS: FALL VICTIM</td>\n",
       "      <td>UPPER MORELAND</td>\n",
       "      <td>KAREN LN &amp; BYBERRY RD</td>\n",
       "      <td>1</td>\n",
       "      <td>EMS</td>\n",
       "    </tr>\n",
       "    <tr>\n",
       "      <th>2016-08-24 09:56:13</th>\n",
       "      <td>40.114928</td>\n",
       "      <td>-75.340307</td>\n",
       "      <td>AIRY ST &amp; GREEN ST;  NORRISTOWN; Station 308A;...</td>\n",
       "      <td>19401</td>\n",
       "      <td>EMS: RESPIRATORY EMERGENCY</td>\n",
       "      <td>NORRISTOWN</td>\n",
       "      <td>AIRY ST &amp; GREEN ST</td>\n",
       "      <td>1</td>\n",
       "      <td>EMS</td>\n",
       "    </tr>\n",
       "    <tr>\n",
       "      <th>2016-08-24 10:01:00</th>\n",
       "      <td>40.159820</td>\n",
       "      <td>-75.288436</td>\n",
       "      <td>WENTZ RD &amp; SILO CIR;  WHITPAIN; Station 385; 2...</td>\n",
       "      <td>19422</td>\n",
       "      <td>EMS: NAUSEA/VOMITING</td>\n",
       "      <td>WHITPAIN</td>\n",
       "      <td>WENTZ RD &amp; SILO CIR</td>\n",
       "      <td>1</td>\n",
       "      <td>EMS</td>\n",
       "    </tr>\n",
       "    <tr>\n",
       "      <th>2016-08-24 10:12:01</th>\n",
       "      <td>40.255271</td>\n",
       "      <td>-75.340722</td>\n",
       "      <td>WOODS DR &amp; DETWILER RD;  TOWAMENCIN; Station 3...</td>\n",
       "      <td>19446</td>\n",
       "      <td>EMS: ALTERED MENTAL STATUS</td>\n",
       "      <td>TOWAMENCIN</td>\n",
       "      <td>WOODS DR &amp; DETWILER RD</td>\n",
       "      <td>1</td>\n",
       "      <td>EMS</td>\n",
       "    </tr>\n",
       "    <tr>\n",
       "      <th>2016-08-24 10:12:01</th>\n",
       "      <td>40.088355</td>\n",
       "      <td>-75.382100</td>\n",
       "      <td>DEKALB PIKE &amp; ALLENDALE RD; UPPER MERION; 2016...</td>\n",
       "      <td>19406</td>\n",
       "      <td>Fire: FIRE ALARM</td>\n",
       "      <td>UPPER MERION</td>\n",
       "      <td>DEKALB PIKE &amp; ALLENDALE RD</td>\n",
       "      <td>1</td>\n",
       "      <td>Fire</td>\n",
       "    </tr>\n",
       "    <tr>\n",
       "      <th>2016-08-24 10:12:01</th>\n",
       "      <td>40.123868</td>\n",
       "      <td>-75.341678</td>\n",
       "      <td>MARKLEY ST &amp; JAMES ST; NORRISTOWN; 2016-08-24 ...</td>\n",
       "      <td>19401</td>\n",
       "      <td>Fire: FIRE ALARM</td>\n",
       "      <td>NORRISTOWN</td>\n",
       "      <td>MARKLEY ST &amp; JAMES ST</td>\n",
       "      <td>1</td>\n",
       "      <td>Fire</td>\n",
       "    </tr>\n",
       "    <tr>\n",
       "      <th>2016-08-24 10:17:01</th>\n",
       "      <td>40.185798</td>\n",
       "      <td>-75.536484</td>\n",
       "      <td>WALNUT ST &amp; S 5TH AVE;  ROYERSFORD; Station 32...</td>\n",
       "      <td>19468</td>\n",
       "      <td>EMS: ALTERED MENTAL STATUS</td>\n",
       "      <td>ROYERSFORD</td>\n",
       "      <td>WALNUT ST &amp; S 5TH AVE</td>\n",
       "      <td>1</td>\n",
       "      <td>EMS</td>\n",
       "    </tr>\n",
       "    <tr>\n",
       "      <th>2016-08-24 10:17:01</th>\n",
       "      <td>40.000763</td>\n",
       "      <td>-75.279769</td>\n",
       "      <td>WYNNEWOOD RD &amp; W OLD WYNNEWOOD RD;  LOWER MERI...</td>\n",
       "      <td>19096</td>\n",
       "      <td>EMS: RESPIRATORY EMERGENCY</td>\n",
       "      <td>LOWER MERION</td>\n",
       "      <td>WYNNEWOOD RD &amp; W OLD WYNNEWOOD RD</td>\n",
       "      <td>1</td>\n",
       "      <td>EMS</td>\n",
       "    </tr>\n",
       "    <tr>\n",
       "      <th>2016-08-24 10:22:00</th>\n",
       "      <td>40.129398</td>\n",
       "      <td>-75.332213</td>\n",
       "      <td>PINE ST &amp; W ROBERTS ST;  NORRISTOWN; Station 3...</td>\n",
       "      <td>19401</td>\n",
       "      <td>EMS: CARDIAC EMERGENCY</td>\n",
       "      <td>NORRISTOWN</td>\n",
       "      <td>PINE ST &amp; W ROBERTS ST</td>\n",
       "      <td>1</td>\n",
       "      <td>EMS</td>\n",
       "    </tr>\n",
       "    <tr>\n",
       "      <th>2016-08-24 10:27:01</th>\n",
       "      <td>40.133533</td>\n",
       "      <td>-75.056460</td>\n",
       "      <td>BUCK RD &amp; WAVERLY LN;  BRYN ATHYN; Station 355...</td>\n",
       "      <td>19009</td>\n",
       "      <td>EMS: GENERAL WEAKNESS</td>\n",
       "      <td>BRYN ATHYN</td>\n",
       "      <td>BUCK RD &amp; WAVERLY LN</td>\n",
       "      <td>1</td>\n",
       "      <td>EMS</td>\n",
       "    </tr>\n",
       "    <tr>\n",
       "      <th>2016-08-24 10:27:01</th>\n",
       "      <td>40.078678</td>\n",
       "      <td>-75.086943</td>\n",
       "      <td>HUNTINGDON PIKE &amp; FILLMORE ST;  ROCKLEDGE; Sta...</td>\n",
       "      <td>19046</td>\n",
       "      <td>EMS: SEIZURES</td>\n",
       "      <td>ROCKLEDGE</td>\n",
       "      <td>HUNTINGDON PIKE &amp; FILLMORE ST</td>\n",
       "      <td>1</td>\n",
       "      <td>EMS</td>\n",
       "    </tr>\n",
       "    <tr>\n",
       "      <th>2016-08-24 10:32:01</th>\n",
       "      <td>40.133715</td>\n",
       "      <td>-75.229630</td>\n",
       "      <td>SHEAFF LN &amp; WHITEMARSH VALLEY RD; WHITEMARSH; ...</td>\n",
       "      <td>19034</td>\n",
       "      <td>Traffic: VEHICLE ACCIDENT -</td>\n",
       "      <td>WHITEMARSH</td>\n",
       "      <td>SHEAFF LN &amp; WHITEMARSH VALLEY RD</td>\n",
       "      <td>1</td>\n",
       "      <td>Traffic</td>\n",
       "    </tr>\n",
       "    <tr>\n",
       "      <th>2016-08-24 10:47:00</th>\n",
       "      <td>40.257820</td>\n",
       "      <td>-75.624294</td>\n",
       "      <td>PARK DR &amp; N ADAMS ST;  POTTSTOWN; Station 329;...</td>\n",
       "      <td>19464</td>\n",
       "      <td>EMS: RESPIRATORY EMERGENCY</td>\n",
       "      <td>POTTSTOWN</td>\n",
       "      <td>PARK DR &amp; N ADAMS ST</td>\n",
       "      <td>1</td>\n",
       "      <td>EMS</td>\n",
       "    </tr>\n",
       "    <tr>\n",
       "      <th>2016-08-24 10:47:00</th>\n",
       "      <td>40.095652</td>\n",
       "      <td>-75.244877</td>\n",
       "      <td>FOX HOUND DR &amp; MARBLE HL;  WHITEMARSH; Station...</td>\n",
       "      <td>19444</td>\n",
       "      <td>EMS: SUBJECT IN PAIN</td>\n",
       "      <td>WHITEMARSH</td>\n",
       "      <td>FOX HOUND DR &amp; MARBLE HL</td>\n",
       "      <td>1</td>\n",
       "      <td>EMS</td>\n",
       "    </tr>\n",
       "    <tr>\n",
       "      <th>2016-08-24 10:47:02</th>\n",
       "      <td>40.100344</td>\n",
       "      <td>-75.293955</td>\n",
       "      <td>CHEMICAL RD &amp; GALLAGHER RD; PLYMOUTH; 2016-08-...</td>\n",
       "      <td>19462</td>\n",
       "      <td>Traffic: VEHICLE ACCIDENT -</td>\n",
       "      <td>PLYMOUTH</td>\n",
       "      <td>CHEMICAL RD &amp; GALLAGHER RD</td>\n",
       "      <td>1</td>\n",
       "      <td>Traffic</td>\n",
       "    </tr>\n",
       "    <tr>\n",
       "      <th>2016-08-24 10:52:01</th>\n",
       "      <td>40.221227</td>\n",
       "      <td>-75.288737</td>\n",
       "      <td>SUMNEYTOWN PIKE &amp; RR OVERPASS;  UPPER GWYNEDD;...</td>\n",
       "      <td>NaN</td>\n",
       "      <td>EMS: CARDIAC EMERGENCY</td>\n",
       "      <td>UPPER GWYNEDD</td>\n",
       "      <td>SUMNEYTOWN PIKE &amp; RR OVERPASS</td>\n",
       "      <td>1</td>\n",
       "      <td>EMS</td>\n",
       "    </tr>\n",
       "    <tr>\n",
       "      <th>2016-08-24 10:52:01</th>\n",
       "      <td>40.221227</td>\n",
       "      <td>-75.288737</td>\n",
       "      <td>SUMNEYTOWN PIKE &amp; RR OVERPASS;  UPPER GWYNEDD;...</td>\n",
       "      <td>NaN</td>\n",
       "      <td>EMS: DIABETIC EMERGENCY</td>\n",
       "      <td>UPPER GWYNEDD</td>\n",
       "      <td>SUMNEYTOWN PIKE &amp; RR OVERPASS</td>\n",
       "      <td>1</td>\n",
       "      <td>EMS</td>\n",
       "    </tr>\n",
       "    <tr>\n",
       "      <th>2016-08-24 10:52:01</th>\n",
       "      <td>40.221227</td>\n",
       "      <td>-75.288737</td>\n",
       "      <td>SUMNEYTOWN PIKE &amp; RR OVERPASS;  UPPER GWYNEDD;...</td>\n",
       "      <td>NaN</td>\n",
       "      <td>EMS: DIZZINESS</td>\n",
       "      <td>UPPER GWYNEDD</td>\n",
       "      <td>SUMNEYTOWN PIKE &amp; RR OVERPASS</td>\n",
       "      <td>1</td>\n",
       "      <td>EMS</td>\n",
       "    </tr>\n",
       "    <tr>\n",
       "      <th>2016-08-24 10:52:03</th>\n",
       "      <td>40.340072</td>\n",
       "      <td>-75.591709</td>\n",
       "      <td>RT100 SB &amp; E PHILADELPHIA AVE OVERPASS; DOUGLA...</td>\n",
       "      <td>NaN</td>\n",
       "      <td>Traffic: DISABLED VEHICLE -</td>\n",
       "      <td>DOUGLASS</td>\n",
       "      <td>RT100 SB &amp; E PHILADELPHIA AVE OVERPASS</td>\n",
       "      <td>1</td>\n",
       "      <td>Traffic</td>\n",
       "    </tr>\n",
       "    <tr>\n",
       "      <th>2016-08-24 10:57:00</th>\n",
       "      <td>40.084465</td>\n",
       "      <td>-75.390173</td>\n",
       "      <td>DEKALB PIKE &amp; KING OF PRUSSIA RD;  UPPER MERIO...</td>\n",
       "      <td>19406</td>\n",
       "      <td>EMS: BACK PAINS/INJURY</td>\n",
       "      <td>UPPER MERION</td>\n",
       "      <td>DEKALB PIKE &amp; KING OF PRUSSIA RD</td>\n",
       "      <td>1</td>\n",
       "      <td>EMS</td>\n",
       "    </tr>\n",
       "    <tr>\n",
       "      <th>2016-08-24 10:57:00</th>\n",
       "      <td>40.133037</td>\n",
       "      <td>-75.408463</td>\n",
       "      <td>SHANNONDELL DR &amp; SHANNONDELL BLVD; LOWER PROVI...</td>\n",
       "      <td>19403</td>\n",
       "      <td>Fire: FIRE ALARM</td>\n",
       "      <td>LOWER PROVIDENCE</td>\n",
       "      <td>SHANNONDELL DR &amp; SHANNONDELL BLVD</td>\n",
       "      <td>1</td>\n",
       "      <td>Fire</td>\n",
       "    </tr>\n",
       "    <tr>\n",
       "      <th>2016-08-24 10:57:01</th>\n",
       "      <td>40.143601</td>\n",
       "      <td>-75.427877</td>\n",
       "      <td>EAGLEVILLE RD &amp; REDTAIL RD; LOWER PROVIDENCE; ...</td>\n",
       "      <td>19403</td>\n",
       "      <td>Traffic: DISABLED VEHICLE -</td>\n",
       "      <td>LOWER PROVIDENCE</td>\n",
       "      <td>EAGLEVILLE RD &amp; REDTAIL RD</td>\n",
       "      <td>1</td>\n",
       "      <td>Traffic</td>\n",
       "    </tr>\n",
       "    <tr>\n",
       "      <th>2016-08-24 11:02:02</th>\n",
       "      <td>40.179225</td>\n",
       "      <td>-75.180572</td>\n",
       "      <td>WELSH RD &amp; NORRISTOWN RD; HORSHAM; 2016-08-24 ...</td>\n",
       "      <td>19044</td>\n",
       "      <td>Traffic: VEHICLE ACCIDENT -</td>\n",
       "      <td>HORSHAM</td>\n",
       "      <td>WELSH RD &amp; NORRISTOWN RD</td>\n",
       "      <td>1</td>\n",
       "      <td>Traffic</td>\n",
       "    </tr>\n",
       "    <tr>\n",
       "      <th>2016-08-24 11:06:00</th>\n",
       "      <td>40.132869</td>\n",
       "      <td>-75.333515</td>\n",
       "      <td>MARKLEY ST &amp; W LOGAN ST; NORRISTOWN; 2016-08-2...</td>\n",
       "      <td>19401</td>\n",
       "      <td>Traffic: VEHICLE ACCIDENT -</td>\n",
       "      <td>NORRISTOWN</td>\n",
       "      <td>MARKLEY ST &amp; W LOGAN ST</td>\n",
       "      <td>1</td>\n",
       "      <td>Traffic</td>\n",
       "    </tr>\n",
       "    <tr>\n",
       "      <th>2016-08-24 11:07:02</th>\n",
       "      <td>40.006974</td>\n",
       "      <td>-75.289080</td>\n",
       "      <td>LANCASTER AVE &amp; RITTENHOUSE PL; LOWER MERION; ...</td>\n",
       "      <td>19003</td>\n",
       "      <td>Traffic: VEHICLE ACCIDENT -</td>\n",
       "      <td>LOWER MERION</td>\n",
       "      <td>LANCASTER AVE &amp; RITTENHOUSE PL</td>\n",
       "      <td>1</td>\n",
       "      <td>Traffic</td>\n",
       "    </tr>\n",
       "    <tr>\n",
       "      <th>2016-08-24 11:12:00</th>\n",
       "      <td>40.115429</td>\n",
       "      <td>-75.334679</td>\n",
       "      <td>CHESTNUT ST &amp; WALNUT ST;  NORRISTOWN; Station ...</td>\n",
       "      <td>19401</td>\n",
       "      <td>EMS: FALL VICTIM</td>\n",
       "      <td>NORRISTOWN</td>\n",
       "      <td>CHESTNUT ST &amp; WALNUT ST</td>\n",
       "      <td>1</td>\n",
       "      <td>EMS</td>\n",
       "    </tr>\n",
       "    <tr>\n",
       "      <th>2016-08-24 11:17:01</th>\n",
       "      <td>40.186431</td>\n",
       "      <td>-75.192555</td>\n",
       "      <td>WELSH RD &amp; WEBSTER LN;  HORSHAM; Station 352; ...</td>\n",
       "      <td>19002</td>\n",
       "      <td>EMS: NAUSEA/VOMITING</td>\n",
       "      <td>HORSHAM</td>\n",
       "      <td>WELSH RD &amp; WEBSTER LN</td>\n",
       "      <td>1</td>\n",
       "      <td>EMS</td>\n",
       "    </tr>\n",
       "    <tr>\n",
       "      <th>2016-08-24 11:17:02</th>\n",
       "      <td>40.207055</td>\n",
       "      <td>-75.317952</td>\n",
       "      <td>MORRIS RD &amp; S BROAD ST; UPPER GWYNEDD; 2016-08...</td>\n",
       "      <td>19446</td>\n",
       "      <td>Traffic: VEHICLE ACCIDENT -</td>\n",
       "      <td>UPPER GWYNEDD</td>\n",
       "      <td>MORRIS RD &amp; S BROAD ST</td>\n",
       "      <td>1</td>\n",
       "      <td>Traffic</td>\n",
       "    </tr>\n",
       "  </tbody>\n",
       "</table>\n",
       "<p>99492 rows × 9 columns</p>\n",
       "</div>"
      ],
      "text/plain": [
       "                           lat        lng  \\\n",
       "timeStamp                                   \n",
       "2015-12-10 17:40:00  40.297876 -75.581294   \n",
       "2015-12-10 17:40:00  40.258061 -75.264680   \n",
       "2015-12-10 17:40:00  40.121182 -75.351975   \n",
       "2015-12-10 17:40:01  40.116153 -75.343513   \n",
       "2015-12-10 17:40:01  40.251492 -75.603350   \n",
       "2015-12-10 17:40:01  40.253473 -75.283245   \n",
       "2015-12-10 17:40:01  40.182111 -75.127795   \n",
       "2015-12-10 17:40:01  40.217286 -75.405182   \n",
       "2015-12-10 17:40:01  40.289027 -75.399590   \n",
       "2015-12-10 17:40:01  40.102398 -75.291458   \n",
       "2015-12-10 17:40:01  40.231990 -75.251891   \n",
       "2015-12-10 17:40:02  40.084161 -75.308386   \n",
       "2015-12-10 17:40:02  40.174131 -75.098491   \n",
       "2015-12-10 17:40:02  40.062974 -75.135914   \n",
       "2015-12-10 17:40:02  40.097222 -75.376195   \n",
       "2015-12-10 17:40:02  40.223778 -75.235399   \n",
       "2015-12-10 17:46:01  40.243258 -75.286552   \n",
       "2015-12-10 17:47:01  40.312181 -75.574260   \n",
       "2015-12-10 17:47:01  40.114239 -75.338508   \n",
       "2015-12-10 17:47:02  40.209337 -75.135266   \n",
       "2015-12-10 17:47:02  40.114239 -75.338508   \n",
       "2015-12-10 17:57:02  40.117948 -75.209848   \n",
       "2015-12-10 18:02:01  40.199006 -75.300058   \n",
       "2015-12-10 18:02:02  40.143326 -75.422819   \n",
       "2015-12-10 18:02:02  40.153268 -75.189558   \n",
       "2015-12-10 18:06:25  40.133037 -75.408463   \n",
       "2015-12-10 18:06:25  40.155283 -75.264230   \n",
       "2015-12-10 18:06:25  40.028903 -75.351822   \n",
       "2015-12-10 18:06:26  40.097222 -75.376195   \n",
       "2015-12-10 18:11:01  40.209337 -75.135266   \n",
       "...                        ...        ...   \n",
       "2016-08-24 09:41:00  40.274137 -75.660469   \n",
       "2016-08-24 09:42:00  40.254768 -75.660459   \n",
       "2016-08-24 09:51:06  40.163730 -75.082753   \n",
       "2016-08-24 09:56:13  40.114928 -75.340307   \n",
       "2016-08-24 10:01:00  40.159820 -75.288436   \n",
       "2016-08-24 10:12:01  40.255271 -75.340722   \n",
       "2016-08-24 10:12:01  40.088355 -75.382100   \n",
       "2016-08-24 10:12:01  40.123868 -75.341678   \n",
       "2016-08-24 10:17:01  40.185798 -75.536484   \n",
       "2016-08-24 10:17:01  40.000763 -75.279769   \n",
       "2016-08-24 10:22:00  40.129398 -75.332213   \n",
       "2016-08-24 10:27:01  40.133533 -75.056460   \n",
       "2016-08-24 10:27:01  40.078678 -75.086943   \n",
       "2016-08-24 10:32:01  40.133715 -75.229630   \n",
       "2016-08-24 10:47:00  40.257820 -75.624294   \n",
       "2016-08-24 10:47:00  40.095652 -75.244877   \n",
       "2016-08-24 10:47:02  40.100344 -75.293955   \n",
       "2016-08-24 10:52:01  40.221227 -75.288737   \n",
       "2016-08-24 10:52:01  40.221227 -75.288737   \n",
       "2016-08-24 10:52:01  40.221227 -75.288737   \n",
       "2016-08-24 10:52:03  40.340072 -75.591709   \n",
       "2016-08-24 10:57:00  40.084465 -75.390173   \n",
       "2016-08-24 10:57:00  40.133037 -75.408463   \n",
       "2016-08-24 10:57:01  40.143601 -75.427877   \n",
       "2016-08-24 11:02:02  40.179225 -75.180572   \n",
       "2016-08-24 11:06:00  40.132869 -75.333515   \n",
       "2016-08-24 11:07:02  40.006974 -75.289080   \n",
       "2016-08-24 11:12:00  40.115429 -75.334679   \n",
       "2016-08-24 11:17:01  40.186431 -75.192555   \n",
       "2016-08-24 11:17:02  40.207055 -75.317952   \n",
       "\n",
       "                                                                  desc    zip  \\\n",
       "timeStamp                                                                       \n",
       "2015-12-10 17:40:00  REINDEER CT & DEAD END;  NEW HANOVER; Station ...  19525   \n",
       "2015-12-10 17:40:00  BRIAR PATH & WHITEMARSH LN;  HATFIELD TOWNSHIP...  19446   \n",
       "2015-12-10 17:40:00  HAWS AVE; NORRISTOWN; 2015-12-10 @ 14:39:21-St...  19401   \n",
       "2015-12-10 17:40:01  AIRY ST & SWEDE ST;  NORRISTOWN; Station 308A;...  19401   \n",
       "2015-12-10 17:40:01  CHERRYWOOD CT & DEAD END;  LOWER POTTSGROVE; S...    NaN   \n",
       "2015-12-10 17:40:01  CANNON AVE & W 9TH ST;  LANSDALE; Station 345;...  19446   \n",
       "2015-12-10 17:40:01  LAUREL AVE & OAKDALE AVE;  HORSHAM; Station 35...  19044   \n",
       "2015-12-10 17:40:01  COLLEGEVILLE RD & LYWISKI RD;  SKIPPACK; Stati...  19426   \n",
       "2015-12-10 17:40:01  MAIN ST & OLD SUMNEYTOWN PIKE;  LOWER SALFORD;...  19438   \n",
       "2015-12-10 17:40:01  BLUEROUTE  & RAMP I476 NB TO CHEMICAL RD; PLYM...  19462   \n",
       "2015-12-10 17:40:01  RT202 PKWY & KNAPP RD; MONTGOMERY; 2015-12-10 ...    NaN   \n",
       "2015-12-10 17:40:02  BROOK RD & COLWELL LN; PLYMOUTH; 2015-12-10 @ ...  19428   \n",
       "2015-12-10 17:40:02  BYBERRY AVE & S WARMINSTER RD; UPPER MORELAND;...  19040   \n",
       "2015-12-10 17:40:02  OLD YORK RD & VALLEY RD; CHELTENHAM; 2015-12-1...  19027   \n",
       "2015-12-10 17:40:02  SCHUYLKILL EXPY & CROTON RD UNDERPASS; UPPER M...    NaN   \n",
       "2015-12-10 17:40:02  STUMP RD & WITCHWOOD DR; MONTGOMERY; 2015-12-1...  18936   \n",
       "2015-12-10 17:46:01  SUSQUEHANNA AVE & W MAIN ST;  LANSDALE; Statio...  19446   \n",
       "2015-12-10 17:47:01  CHARLOTTE ST & MILES RD;  NEW HANOVER; Station...  19525   \n",
       "2015-12-10 17:47:01  PENN ST & ARCH ST;  NORRISTOWN; Station 308A; ...  19401   \n",
       "2015-12-10 17:47:02  COUNTY LINE RD & WILLOW DR; HORSHAM; 2015-12-1...  18974   \n",
       "2015-12-10 17:47:02  PENN ST & ARCH ST; NORRISTOWN; 2015-12-10 @ 17...  19401   \n",
       "2015-12-10 17:57:02  CHURCH RD & REDCOAT DR; WHITEMARSH; 2015-12-10...  19031   \n",
       "2015-12-10 18:02:01  LILAC CT & PRIMROSE DR; UPPER GWYNEDD; 2015-12...  19446   \n",
       "2015-12-10 18:02:02  RT422  & PAWLINGS RD OVERPASS; LOWER PROVIDENC...    NaN   \n",
       "2015-12-10 18:02:02  SUMMIT AVE & RT309 UNDERPASS; UPPER DUBLIN; 20...    NaN   \n",
       "2015-12-10 18:06:25  SHANNONDELL DR & SHANNONDELL BLVD;  LOWER PROV...  19403   \n",
       "2015-12-10 18:06:25  PENLLYN BLUE BELL PIKE & VILLAGE CIR;  WHITPAI...  19422   \n",
       "2015-12-10 18:06:25  EDENTON PL & DURHAM DR; DELAWARE COUNTY; 2015-...  19085   \n",
       "2015-12-10 18:06:26  SCHUYLKILL EXPY & WEADLEY RD OVERPASS; UPPER M...    NaN   \n",
       "2015-12-10 18:11:01  COUNTY LINE RD & WILLOW DR; HORSHAM; 2015-12-1...  18974   \n",
       "...                                                                ...    ...   \n",
       "2016-08-24 09:41:00  UPLAND SQUARE DR & SELL RD;  WEST POTTSGROVE; ...  19464   \n",
       "2016-08-24 09:42:00  SHOEMAKER RD & ROBINSON ST;  POTTSTOWN; Statio...  19464   \n",
       "2016-08-24 09:51:06  KAREN LN & BYBERRY RD;  UPPER MORELAND; Statio...  19040   \n",
       "2016-08-24 09:56:13  AIRY ST & GREEN ST;  NORRISTOWN; Station 308A;...  19401   \n",
       "2016-08-24 10:01:00  WENTZ RD & SILO CIR;  WHITPAIN; Station 385; 2...  19422   \n",
       "2016-08-24 10:12:01  WOODS DR & DETWILER RD;  TOWAMENCIN; Station 3...  19446   \n",
       "2016-08-24 10:12:01  DEKALB PIKE & ALLENDALE RD; UPPER MERION; 2016...  19406   \n",
       "2016-08-24 10:12:01  MARKLEY ST & JAMES ST; NORRISTOWN; 2016-08-24 ...  19401   \n",
       "2016-08-24 10:17:01  WALNUT ST & S 5TH AVE;  ROYERSFORD; Station 32...  19468   \n",
       "2016-08-24 10:17:01  WYNNEWOOD RD & W OLD WYNNEWOOD RD;  LOWER MERI...  19096   \n",
       "2016-08-24 10:22:00  PINE ST & W ROBERTS ST;  NORRISTOWN; Station 3...  19401   \n",
       "2016-08-24 10:27:01  BUCK RD & WAVERLY LN;  BRYN ATHYN; Station 355...  19009   \n",
       "2016-08-24 10:27:01  HUNTINGDON PIKE & FILLMORE ST;  ROCKLEDGE; Sta...  19046   \n",
       "2016-08-24 10:32:01  SHEAFF LN & WHITEMARSH VALLEY RD; WHITEMARSH; ...  19034   \n",
       "2016-08-24 10:47:00  PARK DR & N ADAMS ST;  POTTSTOWN; Station 329;...  19464   \n",
       "2016-08-24 10:47:00  FOX HOUND DR & MARBLE HL;  WHITEMARSH; Station...  19444   \n",
       "2016-08-24 10:47:02  CHEMICAL RD & GALLAGHER RD; PLYMOUTH; 2016-08-...  19462   \n",
       "2016-08-24 10:52:01  SUMNEYTOWN PIKE & RR OVERPASS;  UPPER GWYNEDD;...    NaN   \n",
       "2016-08-24 10:52:01  SUMNEYTOWN PIKE & RR OVERPASS;  UPPER GWYNEDD;...    NaN   \n",
       "2016-08-24 10:52:01  SUMNEYTOWN PIKE & RR OVERPASS;  UPPER GWYNEDD;...    NaN   \n",
       "2016-08-24 10:52:03  RT100 SB & E PHILADELPHIA AVE OVERPASS; DOUGLA...    NaN   \n",
       "2016-08-24 10:57:00  DEKALB PIKE & KING OF PRUSSIA RD;  UPPER MERIO...  19406   \n",
       "2016-08-24 10:57:00  SHANNONDELL DR & SHANNONDELL BLVD; LOWER PROVI...  19403   \n",
       "2016-08-24 10:57:01  EAGLEVILLE RD & REDTAIL RD; LOWER PROVIDENCE; ...  19403   \n",
       "2016-08-24 11:02:02  WELSH RD & NORRISTOWN RD; HORSHAM; 2016-08-24 ...  19044   \n",
       "2016-08-24 11:06:00  MARKLEY ST & W LOGAN ST; NORRISTOWN; 2016-08-2...  19401   \n",
       "2016-08-24 11:07:02  LANCASTER AVE & RITTENHOUSE PL; LOWER MERION; ...  19003   \n",
       "2016-08-24 11:12:00  CHESTNUT ST & WALNUT ST;  NORRISTOWN; Station ...  19401   \n",
       "2016-08-24 11:17:01  WELSH RD & WEBSTER LN;  HORSHAM; Station 352; ...  19002   \n",
       "2016-08-24 11:17:02  MORRIS RD & S BROAD ST; UPPER GWYNEDD; 2016-08...  19446   \n",
       "\n",
       "                                              title                twp  \\\n",
       "timeStamp                                                                \n",
       "2015-12-10 17:40:00          EMS: BACK PAINS/INJURY        NEW HANOVER   \n",
       "2015-12-10 17:40:00         EMS: DIABETIC EMERGENCY  HATFIELD TOWNSHIP   \n",
       "2015-12-10 17:40:00             Fire: GAS-ODOR/LEAK         NORRISTOWN   \n",
       "2015-12-10 17:40:01          EMS: CARDIAC EMERGENCY         NORRISTOWN   \n",
       "2015-12-10 17:40:01                  EMS: DIZZINESS   LOWER POTTSGROVE   \n",
       "2015-12-10 17:40:01                EMS: HEAD INJURY           LANSDALE   \n",
       "2015-12-10 17:40:01            EMS: NAUSEA/VOMITING            HORSHAM   \n",
       "2015-12-10 17:40:01      EMS: RESPIRATORY EMERGENCY           SKIPPACK   \n",
       "2015-12-10 17:40:01           EMS: SYNCOPAL EPISODE      LOWER SALFORD   \n",
       "2015-12-10 17:40:01     Traffic: VEHICLE ACCIDENT -           PLYMOUTH   \n",
       "2015-12-10 17:40:01     Traffic: VEHICLE ACCIDENT -         MONTGOMERY   \n",
       "2015-12-10 17:40:02     Traffic: VEHICLE ACCIDENT -           PLYMOUTH   \n",
       "2015-12-10 17:40:02     Traffic: VEHICLE ACCIDENT -     UPPER MORELAND   \n",
       "2015-12-10 17:40:02     Traffic: VEHICLE ACCIDENT -         CHELTENHAM   \n",
       "2015-12-10 17:40:02     Traffic: VEHICLE ACCIDENT -       UPPER MERION   \n",
       "2015-12-10 17:40:02     Traffic: VEHICLE ACCIDENT -         MONTGOMERY   \n",
       "2015-12-10 17:46:01      EMS: RESPIRATORY EMERGENCY           LANSDALE   \n",
       "2015-12-10 17:47:01                  EMS: DIZZINESS        NEW HANOVER   \n",
       "2015-12-10 17:47:01           EMS: VEHICLE ACCIDENT         NORRISTOWN   \n",
       "2015-12-10 17:47:02     Traffic: DISABLED VEHICLE -            HORSHAM   \n",
       "2015-12-10 17:47:02     Traffic: VEHICLE ACCIDENT -         NORRISTOWN   \n",
       "2015-12-10 17:57:02     Traffic: DISABLED VEHICLE -         WHITEMARSH   \n",
       "2015-12-10 18:02:01            Fire: APPLIANCE FIRE      UPPER GWYNEDD   \n",
       "2015-12-10 18:02:02     Traffic: DISABLED VEHICLE -   LOWER PROVIDENCE   \n",
       "2015-12-10 18:02:02     Traffic: VEHICLE ACCIDENT -       UPPER DUBLIN   \n",
       "2015-12-10 18:06:25           EMS: GENERAL WEAKNESS   LOWER PROVIDENCE   \n",
       "2015-12-10 18:06:25                EMS: HEAD INJURY           WHITPAIN   \n",
       "2015-12-10 18:06:25  Fire: CARBON MONOXIDE DETECTOR    DELAWARE COUNTY   \n",
       "2015-12-10 18:06:26     Traffic: VEHICLE ACCIDENT -       UPPER MERION   \n",
       "2015-12-10 18:11:01     Traffic: DISABLED VEHICLE -            HORSHAM   \n",
       "...                                             ...                ...   \n",
       "2016-08-24 09:41:00  EMS: UNKNOWN MEDICAL EMERGENCY    WEST POTTSGROVE   \n",
       "2016-08-24 09:42:00  EMS: UNKNOWN MEDICAL EMERGENCY          POTTSTOWN   \n",
       "2016-08-24 09:51:06                EMS: FALL VICTIM     UPPER MORELAND   \n",
       "2016-08-24 09:56:13      EMS: RESPIRATORY EMERGENCY         NORRISTOWN   \n",
       "2016-08-24 10:01:00            EMS: NAUSEA/VOMITING           WHITPAIN   \n",
       "2016-08-24 10:12:01      EMS: ALTERED MENTAL STATUS         TOWAMENCIN   \n",
       "2016-08-24 10:12:01                Fire: FIRE ALARM       UPPER MERION   \n",
       "2016-08-24 10:12:01                Fire: FIRE ALARM         NORRISTOWN   \n",
       "2016-08-24 10:17:01      EMS: ALTERED MENTAL STATUS         ROYERSFORD   \n",
       "2016-08-24 10:17:01      EMS: RESPIRATORY EMERGENCY       LOWER MERION   \n",
       "2016-08-24 10:22:00          EMS: CARDIAC EMERGENCY         NORRISTOWN   \n",
       "2016-08-24 10:27:01           EMS: GENERAL WEAKNESS         BRYN ATHYN   \n",
       "2016-08-24 10:27:01                   EMS: SEIZURES          ROCKLEDGE   \n",
       "2016-08-24 10:32:01     Traffic: VEHICLE ACCIDENT -         WHITEMARSH   \n",
       "2016-08-24 10:47:00      EMS: RESPIRATORY EMERGENCY          POTTSTOWN   \n",
       "2016-08-24 10:47:00            EMS: SUBJECT IN PAIN         WHITEMARSH   \n",
       "2016-08-24 10:47:02     Traffic: VEHICLE ACCIDENT -           PLYMOUTH   \n",
       "2016-08-24 10:52:01          EMS: CARDIAC EMERGENCY      UPPER GWYNEDD   \n",
       "2016-08-24 10:52:01         EMS: DIABETIC EMERGENCY      UPPER GWYNEDD   \n",
       "2016-08-24 10:52:01                  EMS: DIZZINESS      UPPER GWYNEDD   \n",
       "2016-08-24 10:52:03     Traffic: DISABLED VEHICLE -           DOUGLASS   \n",
       "2016-08-24 10:57:00          EMS: BACK PAINS/INJURY       UPPER MERION   \n",
       "2016-08-24 10:57:00                Fire: FIRE ALARM   LOWER PROVIDENCE   \n",
       "2016-08-24 10:57:01     Traffic: DISABLED VEHICLE -   LOWER PROVIDENCE   \n",
       "2016-08-24 11:02:02     Traffic: VEHICLE ACCIDENT -            HORSHAM   \n",
       "2016-08-24 11:06:00     Traffic: VEHICLE ACCIDENT -         NORRISTOWN   \n",
       "2016-08-24 11:07:02     Traffic: VEHICLE ACCIDENT -       LOWER MERION   \n",
       "2016-08-24 11:12:00                EMS: FALL VICTIM         NORRISTOWN   \n",
       "2016-08-24 11:17:01            EMS: NAUSEA/VOMITING            HORSHAM   \n",
       "2016-08-24 11:17:02     Traffic: VEHICLE ACCIDENT -      UPPER GWYNEDD   \n",
       "\n",
       "                                                         addr  e   Reason  \n",
       "timeStamp                                                                  \n",
       "2015-12-10 17:40:00                    REINDEER CT & DEAD END  1      EMS  \n",
       "2015-12-10 17:40:00                BRIAR PATH & WHITEMARSH LN  1      EMS  \n",
       "2015-12-10 17:40:00                                  HAWS AVE  1     Fire  \n",
       "2015-12-10 17:40:01                        AIRY ST & SWEDE ST  1      EMS  \n",
       "2015-12-10 17:40:01                  CHERRYWOOD CT & DEAD END  1      EMS  \n",
       "2015-12-10 17:40:01                     CANNON AVE & W 9TH ST  1      EMS  \n",
       "2015-12-10 17:40:01                  LAUREL AVE & OAKDALE AVE  1      EMS  \n",
       "2015-12-10 17:40:01              COLLEGEVILLE RD & LYWISKI RD  1      EMS  \n",
       "2015-12-10 17:40:01             MAIN ST & OLD SUMNEYTOWN PIKE  1      EMS  \n",
       "2015-12-10 17:40:01  BLUEROUTE  & RAMP I476 NB TO CHEMICAL RD  1  Traffic  \n",
       "2015-12-10 17:40:01                     RT202 PKWY & KNAPP RD  1  Traffic  \n",
       "2015-12-10 17:40:02                     BROOK RD & COLWELL LN  1  Traffic  \n",
       "2015-12-10 17:40:02             BYBERRY AVE & S WARMINSTER RD  1  Traffic  \n",
       "2015-12-10 17:40:02                   OLD YORK RD & VALLEY RD  1  Traffic  \n",
       "2015-12-10 17:40:02     SCHUYLKILL EXPY & CROTON RD UNDERPASS  1  Traffic  \n",
       "2015-12-10 17:40:02                   STUMP RD & WITCHWOOD DR  1  Traffic  \n",
       "2015-12-10 17:46:01               SUSQUEHANNA AVE & W MAIN ST  1      EMS  \n",
       "2015-12-10 17:47:01                   CHARLOTTE ST & MILES RD  1      EMS  \n",
       "2015-12-10 17:47:01                         PENN ST & ARCH ST  1      EMS  \n",
       "2015-12-10 17:47:02                COUNTY LINE RD & WILLOW DR  1  Traffic  \n",
       "2015-12-10 17:47:02                         PENN ST & ARCH ST  1  Traffic  \n",
       "2015-12-10 17:57:02                    CHURCH RD & REDCOAT DR  1  Traffic  \n",
       "2015-12-10 18:02:01                    LILAC CT & PRIMROSE DR  1     Fire  \n",
       "2015-12-10 18:02:02             RT422  & PAWLINGS RD OVERPASS  1  Traffic  \n",
       "2015-12-10 18:02:02              SUMMIT AVE & RT309 UNDERPASS  1  Traffic  \n",
       "2015-12-10 18:06:25         SHANNONDELL DR & SHANNONDELL BLVD  1      EMS  \n",
       "2015-12-10 18:06:25      PENLLYN BLUE BELL PIKE & VILLAGE CIR  1      EMS  \n",
       "2015-12-10 18:06:25                    EDENTON PL & DURHAM DR  1     Fire  \n",
       "2015-12-10 18:06:26     SCHUYLKILL EXPY & WEADLEY RD OVERPASS  1  Traffic  \n",
       "2015-12-10 18:11:01                COUNTY LINE RD & WILLOW DR  1  Traffic  \n",
       "...                                                       ... ..      ...  \n",
       "2016-08-24 09:41:00                UPLAND SQUARE DR & SELL RD  1      EMS  \n",
       "2016-08-24 09:42:00                SHOEMAKER RD & ROBINSON ST  1      EMS  \n",
       "2016-08-24 09:51:06                     KAREN LN & BYBERRY RD  1      EMS  \n",
       "2016-08-24 09:56:13                        AIRY ST & GREEN ST  1      EMS  \n",
       "2016-08-24 10:01:00                       WENTZ RD & SILO CIR  1      EMS  \n",
       "2016-08-24 10:12:01                    WOODS DR & DETWILER RD  1      EMS  \n",
       "2016-08-24 10:12:01                DEKALB PIKE & ALLENDALE RD  1     Fire  \n",
       "2016-08-24 10:12:01                     MARKLEY ST & JAMES ST  1     Fire  \n",
       "2016-08-24 10:17:01                     WALNUT ST & S 5TH AVE  1      EMS  \n",
       "2016-08-24 10:17:01         WYNNEWOOD RD & W OLD WYNNEWOOD RD  1      EMS  \n",
       "2016-08-24 10:22:00                    PINE ST & W ROBERTS ST  1      EMS  \n",
       "2016-08-24 10:27:01                      BUCK RD & WAVERLY LN  1      EMS  \n",
       "2016-08-24 10:27:01             HUNTINGDON PIKE & FILLMORE ST  1      EMS  \n",
       "2016-08-24 10:32:01          SHEAFF LN & WHITEMARSH VALLEY RD  1  Traffic  \n",
       "2016-08-24 10:47:00                      PARK DR & N ADAMS ST  1      EMS  \n",
       "2016-08-24 10:47:00                  FOX HOUND DR & MARBLE HL  1      EMS  \n",
       "2016-08-24 10:47:02                CHEMICAL RD & GALLAGHER RD  1  Traffic  \n",
       "2016-08-24 10:52:01             SUMNEYTOWN PIKE & RR OVERPASS  1      EMS  \n",
       "2016-08-24 10:52:01             SUMNEYTOWN PIKE & RR OVERPASS  1      EMS  \n",
       "2016-08-24 10:52:01             SUMNEYTOWN PIKE & RR OVERPASS  1      EMS  \n",
       "2016-08-24 10:52:03    RT100 SB & E PHILADELPHIA AVE OVERPASS  1  Traffic  \n",
       "2016-08-24 10:57:00          DEKALB PIKE & KING OF PRUSSIA RD  1      EMS  \n",
       "2016-08-24 10:57:00         SHANNONDELL DR & SHANNONDELL BLVD  1     Fire  \n",
       "2016-08-24 10:57:01                EAGLEVILLE RD & REDTAIL RD  1  Traffic  \n",
       "2016-08-24 11:02:02                  WELSH RD & NORRISTOWN RD  1  Traffic  \n",
       "2016-08-24 11:06:00                   MARKLEY ST & W LOGAN ST  1  Traffic  \n",
       "2016-08-24 11:07:02            LANCASTER AVE & RITTENHOUSE PL  1  Traffic  \n",
       "2016-08-24 11:12:00                   CHESTNUT ST & WALNUT ST  1      EMS  \n",
       "2016-08-24 11:17:01                     WELSH RD & WEBSTER LN  1      EMS  \n",
       "2016-08-24 11:17:02                    MORRIS RD & S BROAD ST  1  Traffic  \n",
       "\n",
       "[99492 rows x 9 columns]"
      ]
     },
     "execution_count": 66,
     "metadata": {},
     "output_type": "execute_result"
    }
   ],
   "source": [
    "df"
   ]
  },
  {
   "cell_type": "markdown",
   "metadata": {},
   "source": [
    "** You should have seen that these timestamps are still strings. Use [pd.to_datetime](http://pandas.pydata.org/pandas-docs/stable/generated/pandas.to_datetime.html) to convert the column from strings to DateTime objects. **"
   ]
  },
  {
   "cell_type": "code",
   "execution_count": 184,
   "metadata": {
    "collapsed": true
   },
   "outputs": [],
   "source": []
  },
  {
   "cell_type": "markdown",
   "metadata": {},
   "source": [
    "** You can now grab specific attributes from a Datetime object by calling them. For example:**\n",
    "\n",
    "    time = df['timeStamp'].iloc[0]\n",
    "    time.hour\n",
    "\n",
    "**You can use Jupyter's tab method to explore the various attributes you can call. Now that the timestamp column are actually DateTime objects, use .apply() to create 3 new columns called Hour, Month, and Day of Week. You will create these columns based off of the timeStamp column, reference the solutions if you get stuck on this step.**"
   ]
  },
  {
   "cell_type": "code",
   "execution_count": 90,
   "metadata": {},
   "outputs": [],
   "source": [
    "df['Hour'] = df.index.map(lambda x: x.hour)\n",
    "df['Month'] = df.index.map(lambda x: x.month)\n",
    "df['Day of Week'] = df.index.map(lambda x: x.weekday)"
   ]
  },
  {
   "cell_type": "markdown",
   "metadata": {},
   "source": [
    "** Notice how the Day of Week is an integer 0-6. Use the .map() with this dictionary to map the actual string names to the day of the week: **\n",
    "\n",
    "    dmap = {0:'Mon',1:'Tue',2:'Wed',3:'Thu',4:'Fri',5:'Sat',6:'Sun'}"
   ]
  },
  {
   "cell_type": "code",
   "execution_count": 91,
   "metadata": {},
   "outputs": [
    {
     "data": {
      "text/plain": [
       "1    15150\n",
       "2    14879\n",
       "4    14833\n",
       "0    14680\n",
       "3    14478\n",
       "5    13336\n",
       "6    12136\n",
       "Name: Day of Week, dtype: int64"
      ]
     },
     "execution_count": 91,
     "metadata": {},
     "output_type": "execute_result"
    }
   ],
   "source": [
    "df['Day of Week'].value_counts()"
   ]
  },
  {
   "cell_type": "code",
   "execution_count": 92,
   "metadata": {},
   "outputs": [
    {
     "data": {
      "text/plain": [
       "timeStamp\n",
       "2015-12-10 17:40:00    Thu\n",
       "2015-12-10 17:40:00    Thu\n",
       "2015-12-10 17:40:00    Thu\n",
       "2015-12-10 17:40:01    Thu\n",
       "2015-12-10 17:40:01    Thu\n",
       "2015-12-10 17:40:01    Thu\n",
       "2015-12-10 17:40:01    Thu\n",
       "2015-12-10 17:40:01    Thu\n",
       "2015-12-10 17:40:01    Thu\n",
       "2015-12-10 17:40:01    Thu\n",
       "2015-12-10 17:40:01    Thu\n",
       "2015-12-10 17:40:02    Thu\n",
       "2015-12-10 17:40:02    Thu\n",
       "2015-12-10 17:40:02    Thu\n",
       "2015-12-10 17:40:02    Thu\n",
       "2015-12-10 17:40:02    Thu\n",
       "2015-12-10 17:46:01    Thu\n",
       "2015-12-10 17:47:01    Thu\n",
       "2015-12-10 17:47:01    Thu\n",
       "2015-12-10 17:47:02    Thu\n",
       "2015-12-10 17:47:02    Thu\n",
       "2015-12-10 17:57:02    Thu\n",
       "2015-12-10 18:02:01    Thu\n",
       "2015-12-10 18:02:02    Thu\n",
       "2015-12-10 18:02:02    Thu\n",
       "2015-12-10 18:06:25    Thu\n",
       "2015-12-10 18:06:25    Thu\n",
       "2015-12-10 18:06:25    Thu\n",
       "2015-12-10 18:06:26    Thu\n",
       "2015-12-10 18:11:01    Thu\n",
       "                      ... \n",
       "2016-08-24 09:41:00    Wed\n",
       "2016-08-24 09:42:00    Wed\n",
       "2016-08-24 09:51:06    Wed\n",
       "2016-08-24 09:56:13    Wed\n",
       "2016-08-24 10:01:00    Wed\n",
       "2016-08-24 10:12:01    Wed\n",
       "2016-08-24 10:12:01    Wed\n",
       "2016-08-24 10:12:01    Wed\n",
       "2016-08-24 10:17:01    Wed\n",
       "2016-08-24 10:17:01    Wed\n",
       "2016-08-24 10:22:00    Wed\n",
       "2016-08-24 10:27:01    Wed\n",
       "2016-08-24 10:27:01    Wed\n",
       "2016-08-24 10:32:01    Wed\n",
       "2016-08-24 10:47:00    Wed\n",
       "2016-08-24 10:47:00    Wed\n",
       "2016-08-24 10:47:02    Wed\n",
       "2016-08-24 10:52:01    Wed\n",
       "2016-08-24 10:52:01    Wed\n",
       "2016-08-24 10:52:01    Wed\n",
       "2016-08-24 10:52:03    Wed\n",
       "2016-08-24 10:57:00    Wed\n",
       "2016-08-24 10:57:00    Wed\n",
       "2016-08-24 10:57:01    Wed\n",
       "2016-08-24 11:02:02    Wed\n",
       "2016-08-24 11:06:00    Wed\n",
       "2016-08-24 11:07:02    Wed\n",
       "2016-08-24 11:12:00    Wed\n",
       "2016-08-24 11:17:01    Wed\n",
       "2016-08-24 11:17:02    Wed\n",
       "Name: Day of Week, Length: 99492, dtype: object"
      ]
     },
     "execution_count": 92,
     "metadata": {},
     "output_type": "execute_result"
    }
   ],
   "source": [
    "dmap = {0:'Mon',1:'Tue',2:'Wed',3:'Thu',4:'Fri',5:'Sat',6:'Sun'}\n",
    "df['Day of Week'] = df['Day of Week'].map(dmap)\n",
    "df['Day of Week']"
   ]
  },
  {
   "cell_type": "markdown",
   "metadata": {},
   "source": [
    "** Now use seaborn to create a countplot of the Day of Week column with the hue based off of the Reason column. **"
   ]
  },
  {
   "cell_type": "code",
   "execution_count": 113,
   "metadata": {},
   "outputs": [
    {
     "data": {
      "text/plain": [
       "<matplotlib.legend.Legend at 0x299850a9a90>"
      ]
     },
     "execution_count": 113,
     "metadata": {},
     "output_type": "execute_result"
    },
    {
     "data": {
      "image/png": "[encoded data removed]",
      "text/plain": [
       "<Figure size 432x288 with 1 Axes>"
      ]
     },
     "metadata": {
      "needs_background": "light"
     },
     "output_type": "display_data"
    }
   ],
   "source": [
    "sns.countplot(data=df, x='Day of Week', hue='Reason')\n",
    "plt.legend(loc=(1.01,0.78))"
   ]
  },
  {
   "cell_type": "markdown",
   "metadata": {},
   "source": [
    "**Now do the same for Month:**"
   ]
  },
  {
   "cell_type": "code",
   "execution_count": 115,
   "metadata": {},
   "outputs": [
    {
     "data": {
      "text/plain": [
       "<matplotlib.legend.Legend at 0x29986c8b978>"
      ]
     },
     "execution_count": 115,
     "metadata": {},
     "output_type": "execute_result"
    },
    {
     "data": {
      "image/png": "[encoded data removed]",
      "text/plain": [
       "<Figure size 432x288 with 1 Axes>"
      ]
     },
     "metadata": {
      "needs_background": "light"
     },
     "output_type": "display_data"
    }
   ],
   "source": [
    "sns.countplot(data=df, x='Month', hue='Reason')\n",
    "plt.legend(loc=(1.01,0.78))"
   ]
  },
  {
   "cell_type": "markdown",
   "metadata": {},
   "source": [
    "**Did you notice something strange about the Plot?**\n",
    "\n",
    "_____\n",
    "\n",
    "** You should have noticed it was missing some Months, let's see if we can maybe fill in this information by plotting the information in another way, possibly a simple line plot that fills in the missing months, in order to do this, we'll need to do some work with pandas... **"
   ]
  },
  {
   "cell_type": "markdown",
   "metadata": {},
   "source": [
    "** Now create a gropuby object called byMonth, where you group the DataFrame by the month column and use the count() method for aggregation. Use the head() method on this returned DataFrame. **"
   ]
  },
  {
   "cell_type": "code",
   "execution_count": 118,
   "metadata": {},
   "outputs": [],
   "source": [
    "df_month = df.groupby(by='Month').count()"
   ]
  },
  {
   "cell_type": "code",
   "execution_count": 169,
   "metadata": {
    "scrolled": true
   },
   "outputs": [
    {
     "data": {
      "text/html": [
       "<div>\n",
       "<table border=\"1\" class=\"dataframe\">\n",
       "  <thead>\n",
       "    <tr style=\"text-align: right;\">\n",
       "      <th></th>\n",
       "      <th>lat</th>\n",
       "      <th>lng</th>\n",
       "      <th>desc</th>\n",
       "      <th>zip</th>\n",
       "      <th>title</th>\n",
       "      <th>timeStamp</th>\n",
       "      <th>twp</th>\n",
       "      <th>addr</th>\n",
       "      <th>e</th>\n",
       "      <th>Reason</th>\n",
       "      <th>Hour</th>\n",
       "      <th>Day of Week</th>\n",
       "    </tr>\n",
       "    <tr>\n",
       "      <th>Month</th>\n",
       "      <th></th>\n",
       "      <th></th>\n",
       "      <th></th>\n",
       "      <th></th>\n",
       "      <th></th>\n",
       "      <th></th>\n",
       "      <th></th>\n",
       "      <th></th>\n",
       "      <th></th>\n",
       "      <th></th>\n",
       "      <th></th>\n",
       "      <th></th>\n",
       "    </tr>\n",
       "  </thead>\n",
       "  <tbody>\n",
       "    <tr>\n",
       "      <th>1</th>\n",
       "      <td>13205</td>\n",
       "      <td>13205</td>\n",
       "      <td>13205</td>\n",
       "      <td>11527</td>\n",
       "      <td>13205</td>\n",
       "      <td>13205</td>\n",
       "      <td>13203</td>\n",
       "      <td>13096</td>\n",
       "      <td>13205</td>\n",
       "      <td>13205</td>\n",
       "      <td>13205</td>\n",
       "      <td>13205</td>\n",
       "    </tr>\n",
       "    <tr>\n",
       "      <th>2</th>\n",
       "      <td>11467</td>\n",
       "      <td>11467</td>\n",
       "      <td>11467</td>\n",
       "      <td>9930</td>\n",
       "      <td>11467</td>\n",
       "      <td>11467</td>\n",
       "      <td>11465</td>\n",
       "      <td>11396</td>\n",
       "      <td>11467</td>\n",
       "      <td>11467</td>\n",
       "      <td>11467</td>\n",
       "      <td>11467</td>\n",
       "    </tr>\n",
       "    <tr>\n",
       "      <th>3</th>\n",
       "      <td>11101</td>\n",
       "      <td>11101</td>\n",
       "      <td>11101</td>\n",
       "      <td>9755</td>\n",
       "      <td>11101</td>\n",
       "      <td>11101</td>\n",
       "      <td>11092</td>\n",
       "      <td>11059</td>\n",
       "      <td>11101</td>\n",
       "      <td>11101</td>\n",
       "      <td>11101</td>\n",
       "      <td>11101</td>\n",
       "    </tr>\n",
       "    <tr>\n",
       "      <th>4</th>\n",
       "      <td>11326</td>\n",
       "      <td>11326</td>\n",
       "      <td>11326</td>\n",
       "      <td>9895</td>\n",
       "      <td>11326</td>\n",
       "      <td>11326</td>\n",
       "      <td>11323</td>\n",
       "      <td>11283</td>\n",
       "      <td>11326</td>\n",
       "      <td>11326</td>\n",
       "      <td>11326</td>\n",
       "      <td>11326</td>\n",
       "    </tr>\n",
       "    <tr>\n",
       "      <th>5</th>\n",
       "      <td>11423</td>\n",
       "      <td>11423</td>\n",
       "      <td>11423</td>\n",
       "      <td>9946</td>\n",
       "      <td>11423</td>\n",
       "      <td>11423</td>\n",
       "      <td>11420</td>\n",
       "      <td>11378</td>\n",
       "      <td>11423</td>\n",
       "      <td>11423</td>\n",
       "      <td>11423</td>\n",
       "      <td>11423</td>\n",
       "    </tr>\n",
       "  </tbody>\n",
       "</table>\n",
       "</div>"
      ],
      "text/plain": [
       "         lat    lng   desc    zip  title  timeStamp    twp   addr      e  \\\n",
       "Month                                                                      \n",
       "1      13205  13205  13205  11527  13205      13205  13203  13096  13205   \n",
       "2      11467  11467  11467   9930  11467      11467  11465  11396  11467   \n",
       "3      11101  11101  11101   9755  11101      11101  11092  11059  11101   \n",
       "4      11326  11326  11326   9895  11326      11326  11323  11283  11326   \n",
       "5      11423  11423  11423   9946  11423      11423  11420  11378  11423   \n",
       "\n",
       "       Reason   Hour  Day of Week  \n",
       "Month                              \n",
       "1       13205  13205        13205  \n",
       "2       11467  11467        11467  \n",
       "3       11101  11101        11101  \n",
       "4       11326  11326        11326  \n",
       "5       11423  11423        11423  "
      ]
     },
     "execution_count": 169,
     "metadata": {},
     "output_type": "execute_result"
    }
   ],
   "source": []
  },
  {
   "cell_type": "markdown",
   "metadata": {},
   "source": [
    "** Now create a simple plot off of the dataframe indicating the count of calls per month. **"
   ]
  },
  {
   "cell_type": "code",
   "execution_count": 125,
   "metadata": {},
   "outputs": [
    {
     "data": {
      "text/plain": [
       "<matplotlib.axes._subplots.AxesSubplot at 0x29988f67668>"
      ]
     },
     "execution_count": 125,
     "metadata": {},
     "output_type": "execute_result"
    },
    {
     "data": {
      "image/png": "[encoded data removed]",
      "text/plain": [
       "<Figure size 432x288 with 1 Axes>"
      ]
     },
     "metadata": {
      "needs_background": "light"
     },
     "output_type": "display_data"
    }
   ],
   "source": [
    "df_month['lat'].plot()"
   ]
  },
  {
   "cell_type": "markdown",
   "metadata": {},
   "source": [
    "** Now see if you can use seaborn's lmplot() to create a linear fit on the number of calls per month. Keep in mind you may need to reset the index to a column. **"
   ]
  },
  {
   "cell_type": "code",
   "execution_count": 128,
   "metadata": {},
   "outputs": [
    {
     "data": {
      "text/plain": [
       "<seaborn.axisgrid.FacetGrid at 0x2998904e630>"
      ]
     },
     "execution_count": 128,
     "metadata": {},
     "output_type": "execute_result"
    },
    {
     "data": {
      "image/png": "[encoded data removed]",
      "text/plain": [
       "<Figure size 360x360 with 1 Axes>"
      ]
     },
     "metadata": {
      "needs_background": "light"
     },
     "output_type": "display_data"
    }
   ],
   "source": [
    "df_month.reset_index(inplace=True)\n",
    "sns.lmplot(x='Month', y='lat', data=df_month)"
   ]
  },
  {
   "cell_type": "markdown",
   "metadata": {},
   "source": [
    "**Create a new column called 'Date' that contains the date from the timeStamp column. You'll need to use apply along with the .date() method. ** "
   ]
  },
  {
   "cell_type": "code",
   "execution_count": 130,
   "metadata": {},
   "outputs": [],
   "source": [
    "df['Date'] = df.index.map(lambda x: x.date)"
   ]
  },
  {
   "cell_type": "markdown",
   "metadata": {},
   "source": [
    "** Now groupby this Date column with the count() aggregate and create a plot of counts of 911 calls.**"
   ]
  },
  {
   "cell_type": "code",
   "execution_count": 142,
   "metadata": {},
   "outputs": [
    {
     "data": {
      "text/plain": [
       "<matplotlib.axes._subplots.AxesSubplot at 0x29986ee5278>"
      ]
     },
     "execution_count": 142,
     "metadata": {},
     "output_type": "execute_result"
    },
    {
     "data": {
      "image/png": "[encoded data removed]",
      "text/plain": [
       "<Figure size 432x288 with 1 Axes>"
      ]
     },
     "metadata": {
      "needs_background": "light"
     },
     "output_type": "display_data"
    }
   ],
   "source": [
    "df.groupby(by='Date').count().plot(y='lat')"
   ]
  },
  {
   "cell_type": "code",
   "execution_count": 147,
   "metadata": {
    "scrolled": false
   },
   "outputs": [
    {
     "data": {
      "text/plain": [
       "<matplotlib.axes._subplots.AxesSubplot at 0x2998936fb70>"
      ]
     },
     "execution_count": 147,
     "metadata": {},
     "output_type": "execute_result"
    },
    {
     "data": {
      "image/png": "[encoded data removed]",
      "text/plain": [
       "<Figure size 432x288 with 1 Axes>"
      ]
     },
     "metadata": {
      "needs_background": "light"
     },
     "output_type": "display_data"
    }
   ],
   "source": [
    "date_gp = df.groupby(by='Date').count()\n",
    "sns.lineplot(x=date_gp.index, y=date_gp['lat'])"
   ]
  },
  {
   "cell_type": "markdown",
   "metadata": {},
   "source": [
    "** Now recreate this plot but create 3 separate plots with each plot representing a Reason for the 911 call**"
   ]
  },
  {
   "cell_type": "code",
   "execution_count": 176,
   "metadata": {
    "scrolled": true
   },
   "outputs": [
    {
     "data": {
      "image/png": "[encoded data removed]",
      "text/plain": [
       "<Figure size 432x288 with 1 Axes>"
      ]
     },
     "metadata": {
      "needs_background": "light"
     },
     "output_type": "display_data"
    }
   ],
   "source": [
    "df[df['Reason']=='Traffic'].groupby('Date').count()['lat'].plot()\n",
    "plt.title('Traffic')\n",
    "plt.tight_layout()"
   ]
  },
  {
   "cell_type": "code",
   "execution_count": 177,
   "metadata": {},
   "outputs": [
    {
     "data": {
      "image/png": "[encoded data removed]",
      "text/plain": [
       "<Figure size 432x288 with 1 Axes>"
      ]
     },
     "metadata": {
      "needs_background": "light"
     },
     "output_type": "display_data"
    }
   ],
   "source": [
    "df[df['Reason']=='Fire'].groupby('Date').count()['lat'].plot()\n",
    "plt.title('Traffic')\n",
    "plt.tight_layout()"
   ]
  },
  {
   "cell_type": "code",
   "execution_count": 178,
   "metadata": {},
   "outputs": [
    {
     "data": {
      "image/png": "[encoded data removed]",
      "text/plain": [
       "<Figure size 432x288 with 1 Axes>"
      ]
     },
     "metadata": {
      "needs_background": "light"
     },
     "output_type": "display_data"
    }
   ],
   "source": [
    "df[df['Reason']=='EMS'].groupby('Date').count()['lat'].plot()\n",
    "plt.title('Traffic')\n",
    "plt.tight_layout()"
   ]
  },
  {
   "cell_type": "markdown",
   "metadata": {},
   "source": [
    "____\n",
    "** Now let's move on to creating  heatmaps with seaborn and our data. We'll first need to restructure the dataframe so that the columns become the Hours and the Index becomes the Day of the Week. There are lots of ways to do this, but I would recommend trying to combine groupby with an [unstack](http://pandas.pydata.org/pandas-docs/stable/generated/pandas.DataFrame.unstack.html) method. Reference the solutions if you get stuck on this!**"
   ]
  },
  {
   "cell_type": "code",
   "execution_count": 204,
   "metadata": {},
   "outputs": [],
   "source": [
    "day_hour= df.groupby(['Day of Week', 'Hour']).count()['Reason'].unstack()"
   ]
  },
  {
   "cell_type": "code",
   "execution_count": 203,
   "metadata": {
    "scrolled": true
   },
   "outputs": [
    {
     "data": {
      "text/html": [
       "<div>\n",
       "<table border=\"1\" class=\"dataframe\">\n",
       "  <thead>\n",
       "    <tr style=\"text-align: right;\">\n",
       "      <th>Hour</th>\n",
       "      <th>0</th>\n",
       "      <th>1</th>\n",
       "      <th>2</th>\n",
       "      <th>3</th>\n",
       "      <th>4</th>\n",
       "      <th>5</th>\n",
       "      <th>6</th>\n",
       "      <th>7</th>\n",
       "      <th>8</th>\n",
       "      <th>9</th>\n",
       "      <th>...</th>\n",
       "      <th>14</th>\n",
       "      <th>15</th>\n",
       "      <th>16</th>\n",
       "      <th>17</th>\n",
       "      <th>18</th>\n",
       "      <th>19</th>\n",
       "      <th>20</th>\n",
       "      <th>21</th>\n",
       "      <th>22</th>\n",
       "      <th>23</th>\n",
       "    </tr>\n",
       "    <tr>\n",
       "      <th>Day of Week</th>\n",
       "      <th></th>\n",
       "      <th></th>\n",
       "      <th></th>\n",
       "      <th></th>\n",
       "      <th></th>\n",
       "      <th></th>\n",
       "      <th></th>\n",
       "      <th></th>\n",
       "      <th></th>\n",
       "      <th></th>\n",
       "      <th></th>\n",
       "      <th></th>\n",
       "      <th></th>\n",
       "      <th></th>\n",
       "      <th></th>\n",
       "      <th></th>\n",
       "      <th></th>\n",
       "      <th></th>\n",
       "      <th></th>\n",
       "      <th></th>\n",
       "      <th></th>\n",
       "    </tr>\n",
       "  </thead>\n",
       "  <tbody>\n",
       "    <tr>\n",
       "      <th>Fri</th>\n",
       "      <td>275</td>\n",
       "      <td>235</td>\n",
       "      <td>191</td>\n",
       "      <td>175</td>\n",
       "      <td>201</td>\n",
       "      <td>194</td>\n",
       "      <td>372</td>\n",
       "      <td>598</td>\n",
       "      <td>742</td>\n",
       "      <td>752</td>\n",
       "      <td>...</td>\n",
       "      <td>932</td>\n",
       "      <td>980</td>\n",
       "      <td>1039</td>\n",
       "      <td>980</td>\n",
       "      <td>820</td>\n",
       "      <td>696</td>\n",
       "      <td>667</td>\n",
       "      <td>559</td>\n",
       "      <td>514</td>\n",
       "      <td>474</td>\n",
       "    </tr>\n",
       "    <tr>\n",
       "      <th>Mon</th>\n",
       "      <td>282</td>\n",
       "      <td>221</td>\n",
       "      <td>201</td>\n",
       "      <td>194</td>\n",
       "      <td>204</td>\n",
       "      <td>267</td>\n",
       "      <td>397</td>\n",
       "      <td>653</td>\n",
       "      <td>819</td>\n",
       "      <td>786</td>\n",
       "      <td>...</td>\n",
       "      <td>869</td>\n",
       "      <td>913</td>\n",
       "      <td>989</td>\n",
       "      <td>997</td>\n",
       "      <td>885</td>\n",
       "      <td>746</td>\n",
       "      <td>613</td>\n",
       "      <td>497</td>\n",
       "      <td>472</td>\n",
       "      <td>325</td>\n",
       "    </tr>\n",
       "    <tr>\n",
       "      <th>Sat</th>\n",
       "      <td>375</td>\n",
       "      <td>301</td>\n",
       "      <td>263</td>\n",
       "      <td>260</td>\n",
       "      <td>224</td>\n",
       "      <td>231</td>\n",
       "      <td>257</td>\n",
       "      <td>391</td>\n",
       "      <td>459</td>\n",
       "      <td>640</td>\n",
       "      <td>...</td>\n",
       "      <td>789</td>\n",
       "      <td>796</td>\n",
       "      <td>848</td>\n",
       "      <td>757</td>\n",
       "      <td>778</td>\n",
       "      <td>696</td>\n",
       "      <td>628</td>\n",
       "      <td>572</td>\n",
       "      <td>506</td>\n",
       "      <td>467</td>\n",
       "    </tr>\n",
       "    <tr>\n",
       "      <th>Sun</th>\n",
       "      <td>383</td>\n",
       "      <td>306</td>\n",
       "      <td>286</td>\n",
       "      <td>268</td>\n",
       "      <td>242</td>\n",
       "      <td>240</td>\n",
       "      <td>300</td>\n",
       "      <td>402</td>\n",
       "      <td>483</td>\n",
       "      <td>620</td>\n",
       "      <td>...</td>\n",
       "      <td>684</td>\n",
       "      <td>691</td>\n",
       "      <td>663</td>\n",
       "      <td>714</td>\n",
       "      <td>670</td>\n",
       "      <td>655</td>\n",
       "      <td>537</td>\n",
       "      <td>461</td>\n",
       "      <td>415</td>\n",
       "      <td>330</td>\n",
       "    </tr>\n",
       "    <tr>\n",
       "      <th>Thu</th>\n",
       "      <td>278</td>\n",
       "      <td>202</td>\n",
       "      <td>233</td>\n",
       "      <td>159</td>\n",
       "      <td>182</td>\n",
       "      <td>203</td>\n",
       "      <td>362</td>\n",
       "      <td>570</td>\n",
       "      <td>777</td>\n",
       "      <td>828</td>\n",
       "      <td>...</td>\n",
       "      <td>876</td>\n",
       "      <td>969</td>\n",
       "      <td>935</td>\n",
       "      <td>1013</td>\n",
       "      <td>810</td>\n",
       "      <td>698</td>\n",
       "      <td>617</td>\n",
       "      <td>553</td>\n",
       "      <td>424</td>\n",
       "      <td>354</td>\n",
       "    </tr>\n",
       "  </tbody>\n",
       "</table>\n",
       "<p>5 rows × 24 columns</p>\n",
       "</div>"
      ],
      "text/plain": [
       "Hour          0    1    2    3    4    5    6    7    8    9  ...    14   15  \\\n",
       "Day of Week                                                   ...              \n",
       "Fri          275  235  191  175  201  194  372  598  742  752 ...   932  980   \n",
       "Mon          282  221  201  194  204  267  397  653  819  786 ...   869  913   \n",
       "Sat          375  301  263  260  224  231  257  391  459  640 ...   789  796   \n",
       "Sun          383  306  286  268  242  240  300  402  483  620 ...   684  691   \n",
       "Thu          278  202  233  159  182  203  362  570  777  828 ...   876  969   \n",
       "\n",
       "Hour           16    17   18   19   20   21   22   23  \n",
       "Day of Week                                            \n",
       "Fri          1039   980  820  696  667  559  514  474  \n",
       "Mon           989   997  885  746  613  497  472  325  \n",
       "Sat           848   757  778  696  628  572  506  467  \n",
       "Sun           663   714  670  655  537  461  415  330  \n",
       "Thu           935  1013  810  698  617  553  424  354  \n",
       "\n",
       "[5 rows x 24 columns]"
      ]
     },
     "execution_count": 203,
     "metadata": {},
     "output_type": "execute_result"
    }
   ],
   "source": []
  },
  {
   "cell_type": "markdown",
   "metadata": {},
   "source": [
    "** Now create a HeatMap using this new DataFrame. **"
   ]
  },
  {
   "cell_type": "code",
   "execution_count": 212,
   "metadata": {},
   "outputs": [
    {
     "data": {
      "text/plain": [
       "<matplotlib.axes._subplots.AxesSubplot at 0x2998c777a58>"
      ]
     },
     "execution_count": 212,
     "metadata": {},
     "output_type": "execute_result"
    },
    {
     "data": {
      "image/png": "[encoded data removed]",
      "text/plain": [
       "<Figure size 864x720 with 2 Axes>"
      ]
     },
     "metadata": {
      "needs_background": "light"
     },
     "output_type": "display_data"
    }
   ],
   "source": [
    "plt.figure(figsize=(12,10))\n",
    "sns.heatmap(data=day_hour, cmap='viridis')"
   ]
  },
  {
   "cell_type": "code",
   "execution_count": 204,
   "metadata": {
    "scrolled": true
   },
   "outputs": [
    {
     "data": {
      "text/plain": [
       "<matplotlib.axes._subplots.AxesSubplot at 0x1253fa198>"
      ]
     },
     "execution_count": 204,
     "metadata": {},
     "output_type": "execute_result"
    },
    {
     "data": {
      "image/png": "[encoded data removed]",
      "text/plain": [
       "<matplotlib.figure.Figure at 0x12b4bc940>"
      ]
     },
     "metadata": {},
     "output_type": "display_data"
    }
   ],
   "source": []
  },
  {
   "cell_type": "markdown",
   "metadata": {},
   "source": [
    "** Now create a clustermap using this DataFrame. **"
   ]
  },
  {
   "cell_type": "code",
   "execution_count": 213,
   "metadata": {},
   "outputs": [
    {
     "data": {
      "text/plain": [
       "<seaborn.matrix.ClusterGrid at 0x2998c413e10>"
      ]
     },
     "execution_count": 213,
     "metadata": {},
     "output_type": "execute_result"
    },
    {
     "data": {
      "image/png": "[encoded data removed]",
      "text/plain": [
       "<Figure size 720x720 with 4 Axes>"
      ]
     },
     "metadata": {
      "needs_background": "light"
     },
     "output_type": "display_data"
    }
   ],
   "source": [
    "sns.clustermap(data=day_hour)"
   ]
  },
  {
   "cell_type": "markdown",
   "metadata": {},
   "source": [
    "** Now repeat these same plots and operations, for a DataFrame that shows the Month as the column. **"
   ]
  },
  {
   "cell_type": "code",
   "execution_count": 223,
   "metadata": {},
   "outputs": [
    {
     "data": {
      "text/html": [
       "<div>\n",
       "<style scoped>\n",
       "    .dataframe tbody tr th:only-of-type {\n",
       "        vertical-align: middle;\n",
       "    }\n",
       "\n",
       "    .dataframe tbody tr th {\n",
       "        vertical-align: top;\n",
       "    }\n",
       "\n",
       "    .dataframe thead th {\n",
       "        text-align: right;\n",
       "    }\n",
       "</style>\n",
       "<table border=\"1\" class=\"dataframe\">\n",
       "  <thead>\n",
       "    <tr style=\"text-align: right;\">\n",
       "      <th>Month</th>\n",
       "      <th>1</th>\n",
       "      <th>2</th>\n",
       "      <th>3</th>\n",
       "      <th>4</th>\n",
       "      <th>5</th>\n",
       "      <th>6</th>\n",
       "      <th>7</th>\n",
       "      <th>8</th>\n",
       "      <th>12</th>\n",
       "    </tr>\n",
       "    <tr>\n",
       "      <th>Day of Week</th>\n",
       "      <th></th>\n",
       "      <th></th>\n",
       "      <th></th>\n",
       "      <th></th>\n",
       "      <th></th>\n",
       "      <th></th>\n",
       "      <th></th>\n",
       "      <th></th>\n",
       "      <th></th>\n",
       "    </tr>\n",
       "  </thead>\n",
       "  <tbody>\n",
       "    <tr>\n",
       "      <th>Fri</th>\n",
       "      <td>1970</td>\n",
       "      <td>1581</td>\n",
       "      <td>1525</td>\n",
       "      <td>1958</td>\n",
       "      <td>1730</td>\n",
       "      <td>1649</td>\n",
       "      <td>2045</td>\n",
       "      <td>1310</td>\n",
       "      <td>1065</td>\n",
       "    </tr>\n",
       "    <tr>\n",
       "      <th>Mon</th>\n",
       "      <td>1727</td>\n",
       "      <td>1964</td>\n",
       "      <td>1535</td>\n",
       "      <td>1598</td>\n",
       "      <td>1779</td>\n",
       "      <td>1617</td>\n",
       "      <td>1692</td>\n",
       "      <td>1511</td>\n",
       "      <td>1257</td>\n",
       "    </tr>\n",
       "    <tr>\n",
       "      <th>Sat</th>\n",
       "      <td>2291</td>\n",
       "      <td>1441</td>\n",
       "      <td>1266</td>\n",
       "      <td>1734</td>\n",
       "      <td>1444</td>\n",
       "      <td>1388</td>\n",
       "      <td>1695</td>\n",
       "      <td>1099</td>\n",
       "      <td>978</td>\n",
       "    </tr>\n",
       "    <tr>\n",
       "      <th>Sun</th>\n",
       "      <td>1960</td>\n",
       "      <td>1229</td>\n",
       "      <td>1102</td>\n",
       "      <td>1488</td>\n",
       "      <td>1424</td>\n",
       "      <td>1333</td>\n",
       "      <td>1672</td>\n",
       "      <td>1021</td>\n",
       "      <td>907</td>\n",
       "    </tr>\n",
       "    <tr>\n",
       "      <th>Thu</th>\n",
       "      <td>1584</td>\n",
       "      <td>1596</td>\n",
       "      <td>1900</td>\n",
       "      <td>1601</td>\n",
       "      <td>1590</td>\n",
       "      <td>2065</td>\n",
       "      <td>1646</td>\n",
       "      <td>1230</td>\n",
       "      <td>1266</td>\n",
       "    </tr>\n",
       "    <tr>\n",
       "      <th>Tue</th>\n",
       "      <td>1973</td>\n",
       "      <td>1753</td>\n",
       "      <td>1884</td>\n",
       "      <td>1430</td>\n",
       "      <td>1918</td>\n",
       "      <td>1676</td>\n",
       "      <td>1670</td>\n",
       "      <td>1612</td>\n",
       "      <td>1234</td>\n",
       "    </tr>\n",
       "    <tr>\n",
       "      <th>Wed</th>\n",
       "      <td>1700</td>\n",
       "      <td>1903</td>\n",
       "      <td>1889</td>\n",
       "      <td>1517</td>\n",
       "      <td>1538</td>\n",
       "      <td>2058</td>\n",
       "      <td>1717</td>\n",
       "      <td>1295</td>\n",
       "      <td>1262</td>\n",
       "    </tr>\n",
       "  </tbody>\n",
       "</table>\n",
       "</div>"
      ],
      "text/plain": [
       "Month          1     2     3     4     5     6     7     8     12\n",
       "Day of Week                                                      \n",
       "Fri          1970  1581  1525  1958  1730  1649  2045  1310  1065\n",
       "Mon          1727  1964  1535  1598  1779  1617  1692  1511  1257\n",
       "Sat          2291  1441  1266  1734  1444  1388  1695  1099   978\n",
       "Sun          1960  1229  1102  1488  1424  1333  1672  1021   907\n",
       "Thu          1584  1596  1900  1601  1590  2065  1646  1230  1266\n",
       "Tue          1973  1753  1884  1430  1918  1676  1670  1612  1234\n",
       "Wed          1700  1903  1889  1517  1538  2058  1717  1295  1262"
      ]
     },
     "execution_count": 223,
     "metadata": {},
     "output_type": "execute_result"
    }
   ],
   "source": [
    "day_month = df.groupby(by=['Day of Week', 'Month'])['Reason'].count().unstack()\n",
    "day_month"
   ]
  },
  {
   "cell_type": "code",
   "execution_count": 222,
   "metadata": {},
   "outputs": [
    {
     "data": {
      "text/plain": [
       "<matplotlib.axes._subplots.AxesSubplot at 0x2998d96d8d0>"
      ]
     },
     "execution_count": 222,
     "metadata": {},
     "output_type": "execute_result"
    },
    {
     "data": {
      "image/png": "[encoded data removed]",
      "text/plain": [
       "<Figure size 432x288 with 2 Axes>"
      ]
     },
     "metadata": {
      "needs_background": "light"
     },
     "output_type": "display_data"
    }
   ],
   "source": [
    "sns.heatmap(data=day_month)"
   ]
  },
  {
   "cell_type": "code",
   "execution_count": 224,
   "metadata": {},
   "outputs": [
    {
     "data": {
      "text/plain": [
       "<seaborn.matrix.ClusterGrid at 0x2998d9315f8>"
      ]
     },
     "execution_count": 224,
     "metadata": {},
     "output_type": "execute_result"
    },
    {
     "data": {
      "image/png": "[encoded data removed]",
      "text/plain": [
       "<Figure size 720x720 with 4 Axes>"
      ]
     },
     "metadata": {
      "needs_background": "light"
     },
     "output_type": "display_data"
    }
   ],
   "source": [
    "sns.clustermap(data=day_month)"
   ]
  },
  {
   "cell_type": "markdown",
   "metadata": {},
   "source": [
    "Count of accidents keeps decreasing after month 7. Missing months 9, 10, 11"
   ]
  },
  {
   "cell_type": "code",
   "execution_count": 227,
   "metadata": {
    "scrolled": true
   },
   "outputs": [
    {
     "data": {
      "text/plain": [
       "<matplotlib.axes._subplots.AxesSubplot at 0x2998e498cc0>"
      ]
     },
     "execution_count": 227,
     "metadata": {},
     "output_type": "execute_result"
    },
    {
     "data": {
      "image/png": "[encoded data removed]",
      "text/plain": [
       "<Figure size 432x288 with 1 Axes>"
      ]
     },
     "metadata": {
      "needs_background": "light"
     },
     "output_type": "display_data"
    }
   ],
   "source": [
    "df.groupby('Month').count()['Reason'].plot()"
   ]
  },
  {
   "cell_type": "code",
   "execution_count": null,
   "metadata": {},
   "outputs": [],
   "source": []
  },
  {
   "cell_type": "markdown",
   "metadata": {
    "collapsed": true
   },
   "source": [
    "**Continue exploring the Data however you see fit!**\n",
    "# Great Job!"
   ]
  }
 ],
 "metadata": {
  "hide_input": false,
  "kernelspec": {
   "display_name": "Python 3",
   "language": "python",
   "name": "python3"
  },
  "language_info": {
   "codemirror_mode": {
    "name": "ipython",
    "version": 3
   },
   "file_extension": ".py",
   "mimetype": "text/x-python",
   "name": "python",
   "nbconvert_exporter": "python",
   "pygments_lexer": "ipython3",
   "version": "3.6.4"
  }
 },
 "nbformat": 4,
 "nbformat_minor": 1
}
